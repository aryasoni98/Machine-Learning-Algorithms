{
 "cells": [
  {
   "cell_type": "markdown",
   "metadata": {},
   "source": [
    "# Naive Bayes\n",
    "\n",
    "This algorithm is based on the Bayes Theorem used for finding probability of an event given that another event happened. Formula :\n",
    "\n",
    "P(A/B) = [P(B/A) * P(A)]/P(B)\n",
    "\n",
    "The term naive is used for assumptions as there are many assumptions to keep in mind using bayes theorem. \n",
    "In the algorithm what happens is it calculates the probability of the event based on each class and features. The class with higher probability is the solution."
   ]
  },
  {
   "cell_type": "markdown",
   "metadata": {},
   "source": [
    "## Importing the libraries"
   ]
  },
  {
   "cell_type": "code",
   "execution_count": 1,
   "metadata": {},
   "outputs": [],
   "source": [
    "import pandas as pd\n",
    "import numpy as np\n",
    "import matplotlib.pyplot as plt"
   ]
  },
  {
   "cell_type": "markdown",
   "metadata": {},
   "source": [
    "## Importing the dataset"
   ]
  },
  {
   "cell_type": "code",
   "execution_count": 2,
   "metadata": {},
   "outputs": [],
   "source": [
    "dataset = pd.read_csv('Social_Network_Ads.csv')\n",
    "X = dataset.drop(\"Purchased\",axis = 1)\n",
    "y = dataset[\"Purchased\"]"
   ]
  },
  {
   "cell_type": "markdown",
   "metadata": {},
   "source": [
    "## Splitting the dataset into the Training set and Test set"
   ]
  },
  {
   "cell_type": "code",
   "execution_count": 3,
   "metadata": {},
   "outputs": [],
   "source": [
    "from sklearn.model_selection import train_test_split\n",
    "X_train, X_test, y_train, y_test = train_test_split(X,y,test_size = 0.2, random_state = 0)"
   ]
  },
  {
   "cell_type": "code",
   "execution_count": 4,
   "metadata": {},
   "outputs": [
    {
     "data": {
      "text/html": [
       "<div>\n",
       "<style scoped>\n",
       "    .dataframe tbody tr th:only-of-type {\n",
       "        vertical-align: middle;\n",
       "    }\n",
       "\n",
       "    .dataframe tbody tr th {\n",
       "        vertical-align: top;\n",
       "    }\n",
       "\n",
       "    .dataframe thead th {\n",
       "        text-align: right;\n",
       "    }\n",
       "</style>\n",
       "<table border=\"1\" class=\"dataframe\">\n",
       "  <thead>\n",
       "    <tr style=\"text-align: right;\">\n",
       "      <th></th>\n",
       "      <th>Age</th>\n",
       "      <th>EstimatedSalary</th>\n",
       "    </tr>\n",
       "  </thead>\n",
       "  <tbody>\n",
       "    <tr>\n",
       "      <th>336</th>\n",
       "      <td>58</td>\n",
       "      <td>144000</td>\n",
       "    </tr>\n",
       "    <tr>\n",
       "      <th>64</th>\n",
       "      <td>59</td>\n",
       "      <td>83000</td>\n",
       "    </tr>\n",
       "    <tr>\n",
       "      <th>55</th>\n",
       "      <td>24</td>\n",
       "      <td>55000</td>\n",
       "    </tr>\n",
       "    <tr>\n",
       "      <th>106</th>\n",
       "      <td>26</td>\n",
       "      <td>35000</td>\n",
       "    </tr>\n",
       "    <tr>\n",
       "      <th>300</th>\n",
       "      <td>58</td>\n",
       "      <td>38000</td>\n",
       "    </tr>\n",
       "    <tr>\n",
       "      <th>...</th>\n",
       "      <td>...</td>\n",
       "      <td>...</td>\n",
       "    </tr>\n",
       "    <tr>\n",
       "      <th>323</th>\n",
       "      <td>48</td>\n",
       "      <td>30000</td>\n",
       "    </tr>\n",
       "    <tr>\n",
       "      <th>192</th>\n",
       "      <td>29</td>\n",
       "      <td>43000</td>\n",
       "    </tr>\n",
       "    <tr>\n",
       "      <th>117</th>\n",
       "      <td>36</td>\n",
       "      <td>52000</td>\n",
       "    </tr>\n",
       "    <tr>\n",
       "      <th>47</th>\n",
       "      <td>27</td>\n",
       "      <td>54000</td>\n",
       "    </tr>\n",
       "    <tr>\n",
       "      <th>172</th>\n",
       "      <td>26</td>\n",
       "      <td>118000</td>\n",
       "    </tr>\n",
       "  </tbody>\n",
       "</table>\n",
       "<p>320 rows × 2 columns</p>\n",
       "</div>"
      ],
      "text/plain": [
       "     Age  EstimatedSalary\n",
       "336   58           144000\n",
       "64    59            83000\n",
       "55    24            55000\n",
       "106   26            35000\n",
       "300   58            38000\n",
       "..   ...              ...\n",
       "323   48            30000\n",
       "192   29            43000\n",
       "117   36            52000\n",
       "47    27            54000\n",
       "172   26           118000\n",
       "\n",
       "[320 rows x 2 columns]"
      ]
     },
     "execution_count": 4,
     "metadata": {},
     "output_type": "execute_result"
    }
   ],
   "source": [
    "X_train"
   ]
  },
  {
   "cell_type": "code",
   "execution_count": 5,
   "metadata": {},
   "outputs": [
    {
     "data": {
      "text/plain": [
       "336    1\n",
       "64     0\n",
       "55     0\n",
       "106    0\n",
       "300    1\n",
       "      ..\n",
       "323    1\n",
       "192    0\n",
       "117    0\n",
       "47     0\n",
       "172    0\n",
       "Name: Purchased, Length: 320, dtype: int64"
      ]
     },
     "execution_count": 5,
     "metadata": {},
     "output_type": "execute_result"
    }
   ],
   "source": [
    "y_train"
   ]
  },
  {
   "cell_type": "code",
   "execution_count": 6,
   "metadata": {},
   "outputs": [
    {
     "data": {
      "text/html": [
       "<div>\n",
       "<style scoped>\n",
       "    .dataframe tbody tr th:only-of-type {\n",
       "        vertical-align: middle;\n",
       "    }\n",
       "\n",
       "    .dataframe tbody tr th {\n",
       "        vertical-align: top;\n",
       "    }\n",
       "\n",
       "    .dataframe thead th {\n",
       "        text-align: right;\n",
       "    }\n",
       "</style>\n",
       "<table border=\"1\" class=\"dataframe\">\n",
       "  <thead>\n",
       "    <tr style=\"text-align: right;\">\n",
       "      <th></th>\n",
       "      <th>Age</th>\n",
       "      <th>EstimatedSalary</th>\n",
       "    </tr>\n",
       "  </thead>\n",
       "  <tbody>\n",
       "    <tr>\n",
       "      <th>132</th>\n",
       "      <td>30</td>\n",
       "      <td>87000</td>\n",
       "    </tr>\n",
       "    <tr>\n",
       "      <th>309</th>\n",
       "      <td>38</td>\n",
       "      <td>50000</td>\n",
       "    </tr>\n",
       "    <tr>\n",
       "      <th>341</th>\n",
       "      <td>35</td>\n",
       "      <td>75000</td>\n",
       "    </tr>\n",
       "    <tr>\n",
       "      <th>196</th>\n",
       "      <td>30</td>\n",
       "      <td>79000</td>\n",
       "    </tr>\n",
       "    <tr>\n",
       "      <th>246</th>\n",
       "      <td>35</td>\n",
       "      <td>50000</td>\n",
       "    </tr>\n",
       "    <tr>\n",
       "      <th>...</th>\n",
       "      <td>...</td>\n",
       "      <td>...</td>\n",
       "    </tr>\n",
       "    <tr>\n",
       "      <th>14</th>\n",
       "      <td>18</td>\n",
       "      <td>82000</td>\n",
       "    </tr>\n",
       "    <tr>\n",
       "      <th>363</th>\n",
       "      <td>42</td>\n",
       "      <td>79000</td>\n",
       "    </tr>\n",
       "    <tr>\n",
       "      <th>304</th>\n",
       "      <td>40</td>\n",
       "      <td>60000</td>\n",
       "    </tr>\n",
       "    <tr>\n",
       "      <th>361</th>\n",
       "      <td>53</td>\n",
       "      <td>34000</td>\n",
       "    </tr>\n",
       "    <tr>\n",
       "      <th>329</th>\n",
       "      <td>47</td>\n",
       "      <td>107000</td>\n",
       "    </tr>\n",
       "  </tbody>\n",
       "</table>\n",
       "<p>80 rows × 2 columns</p>\n",
       "</div>"
      ],
      "text/plain": [
       "     Age  EstimatedSalary\n",
       "132   30            87000\n",
       "309   38            50000\n",
       "341   35            75000\n",
       "196   30            79000\n",
       "246   35            50000\n",
       "..   ...              ...\n",
       "14    18            82000\n",
       "363   42            79000\n",
       "304   40            60000\n",
       "361   53            34000\n",
       "329   47           107000\n",
       "\n",
       "[80 rows x 2 columns]"
      ]
     },
     "execution_count": 6,
     "metadata": {},
     "output_type": "execute_result"
    }
   ],
   "source": [
    "X_test"
   ]
  },
  {
   "cell_type": "code",
   "execution_count": 7,
   "metadata": {},
   "outputs": [
    {
     "data": {
      "text/plain": [
       "132    0\n",
       "309    0\n",
       "341    0\n",
       "196    0\n",
       "246    0\n",
       "      ..\n",
       "14     0\n",
       "363    0\n",
       "304    0\n",
       "361    1\n",
       "329    1\n",
       "Name: Purchased, Length: 80, dtype: int64"
      ]
     },
     "execution_count": 7,
     "metadata": {},
     "output_type": "execute_result"
    }
   ],
   "source": [
    "y_test"
   ]
  },
  {
   "cell_type": "markdown",
   "metadata": {},
   "source": [
    "## Feature Scaling"
   ]
  },
  {
   "cell_type": "code",
   "execution_count": 8,
   "metadata": {},
   "outputs": [],
   "source": [
    "from sklearn.preprocessing import StandardScaler\n",
    "sc = StandardScaler()\n",
    "X_train = sc.fit_transform(X_train)\n",
    "X_test = sc.transform(X_test)"
   ]
  },
  {
   "cell_type": "code",
   "execution_count": 9,
   "metadata": {},
   "outputs": [
    {
     "data": {
      "text/plain": [
       "array([[ 1.92295008e+00,  2.14601566e+00],\n",
       "       [ 2.02016082e+00,  3.78719297e-01],\n",
       "       [-1.38221530e+00, -4.32498705e-01],\n",
       "       [-1.18779381e+00, -1.01194013e+00],\n",
       "       [ 1.92295008e+00, -9.25023920e-01],\n",
       "       [ 3.67578135e-01,  2.91803083e-01],\n",
       "       [ 1.73156642e-01,  1.46942725e-01],\n",
       "       [ 2.02016082e+00,  1.74040666e+00],\n",
       "       [ 7.56421121e-01, -8.38107706e-01],\n",
       "       [ 2.70367388e-01, -2.87638347e-01],\n",
       "       [ 3.67578135e-01, -1.71750061e-01],\n",
       "       [-1.18475597e-01,  2.20395980e+00],\n",
       "       [-1.47942605e+00, -6.35303205e-01],\n",
       "       [-1.28500455e+00, -1.06988428e+00],\n",
       "       [-1.38221530e+00,  4.07691369e-01],\n",
       "       [-1.09058306e+00,  7.55356227e-01],\n",
       "       [-1.47942605e+00, -2.00722133e-01],\n",
       "       [ 9.50842613e-01, -1.06988428e+00],\n",
       "       [ 9.50842613e-01,  5.81523798e-01],\n",
       "       [ 3.67578135e-01,  9.87132798e-01],\n",
       "       [ 5.61999628e-01, -8.96051849e-01],\n",
       "       [-6.04529329e-01,  1.45068594e+00],\n",
       "       [-2.12648508e-02, -5.77359062e-01],\n",
       "       [-6.04529329e-01,  1.88526701e+00],\n",
       "       [ 1.33968560e+00, -1.41754914e+00],\n",
       "       [ 1.43689635e+00,  9.87132798e-01],\n",
       "       [ 7.59458956e-02, -8.09135634e-01],\n",
       "       [-2.12648508e-02, -2.58666276e-01],\n",
       "       [-2.15686344e-01, -5.77359062e-01],\n",
       "       [-2.15686344e-01, -2.00722133e-01],\n",
       "       [-3.12897090e-01, -1.30166085e+00],\n",
       "       [-3.12897090e-01, -5.77359062e-01],\n",
       "       [ 3.67578135e-01,  8.89985821e-02],\n",
       "       [ 8.53631867e-01, -6.06331134e-01],\n",
       "       [ 2.02016082e+00, -1.18577256e+00],\n",
       "       [ 1.04805336e+00, -1.42777990e-01],\n",
       "       [ 6.59210374e-01,  1.76937873e+00],\n",
       "       [-7.01740076e-01,  5.52551726e-01],\n",
       "       [ 7.56421121e-01,  3.49747226e-01],\n",
       "       [ 8.53631867e-01, -5.48386991e-01],\n",
       "       [-1.18779381e+00, -1.59138156e+00],\n",
       "       [ 2.11737157e+00,  9.29188655e-01],\n",
       "       [-2.12648508e-02,  1.21890937e+00],\n",
       "       [ 1.73156642e-01,  1.07404901e+00],\n",
       "       [ 3.67578135e-01, -4.90442848e-01],\n",
       "       [-3.12897090e-01, -3.16610419e-01],\n",
       "       [ 9.50842613e-01, -8.38107706e-01],\n",
       "       [ 9.50842613e-01,  1.85629494e+00],\n",
       "       [-2.12648508e-02,  1.24788144e+00],\n",
       "       [-8.96161568e-01,  2.26190394e+00],\n",
       "       [-1.18779381e+00, -1.59138156e+00],\n",
       "       [ 2.11737157e+00, -8.09135634e-01],\n",
       "       [-1.38221530e+00, -1.47549328e+00],\n",
       "       [ 3.67578135e-01,  2.29087602e+00],\n",
       "       [ 7.56421121e-01,  7.55356227e-01],\n",
       "       [-9.93372315e-01, -3.16610419e-01],\n",
       "       [ 7.59458956e-02,  7.55356227e-01],\n",
       "       [-9.93372315e-01,  5.52551726e-01],\n",
       "       [ 2.70367388e-01,  6.00265106e-02],\n",
       "       [ 6.59210374e-01, -1.27268878e+00],\n",
       "       [-5.07318583e-01, -2.68897039e-02],\n",
       "       [-1.77105829e+00,  3.49747226e-01],\n",
       "       [-7.01740076e-01,  1.17970654e-01],\n",
       "       [ 3.67578135e-01,  2.91803083e-01],\n",
       "       [-3.12897090e-01,  6.00265106e-02],\n",
       "       [-5.07318583e-01,  2.29087602e+00],\n",
       "       [ 1.73156642e-01,  3.10544391e-02],\n",
       "       [ 1.24247485e+00,  2.20395980e+00],\n",
       "       [ 7.56421121e-01,  2.62831011e-01],\n",
       "       [-3.12897090e-01,  1.46942725e-01],\n",
       "       [-2.12648508e-02, -5.48386991e-01],\n",
       "       [-2.15686344e-01,  1.46942725e-01],\n",
       "       [-1.18475597e-01,  2.33858940e-01],\n",
       "       [-2.12648508e-02, -2.58666276e-01],\n",
       "       [ 2.11737157e+00,  1.10302108e+00],\n",
       "       [-1.77105829e+00,  3.49747226e-01],\n",
       "       [ 1.82573933e+00,  1.17970654e-01],\n",
       "       [ 3.67578135e-01, -1.42777990e-01],\n",
       "       [-1.18779381e+00,  2.91803083e-01],\n",
       "       [ 7.56421121e-01,  1.36376973e+00],\n",
       "       [-3.12897090e-01, -2.58666276e-01],\n",
       "       [-1.67384754e+00, -5.58617754e-02],\n",
       "       [-9.93372315e-01, -7.51191491e-01],\n",
       "       [ 2.70367388e-01,  4.94607583e-01],\n",
       "       [-1.18475597e-01, -1.06988428e+00],\n",
       "       [-1.09058306e+00,  5.81523798e-01],\n",
       "       [ 7.59458956e-02, -8.09135634e-01],\n",
       "       [-9.93372315e-01,  1.53760216e+00],\n",
       "       [-7.01740076e-01,  1.39274180e+00],\n",
       "       [-1.28500455e+00,  4.94607583e-01],\n",
       "       [-3.12897090e-01,  3.10544391e-02],\n",
       "       [-1.18475597e-01,  2.08236764e-03],\n",
       "       [-3.12897090e-01, -8.96051849e-01],\n",
       "       [ 8.53631867e-01, -1.35960499e+00],\n",
       "       [-3.12897090e-01,  2.23293187e+00],\n",
       "       [ 9.50842613e-01,  1.97218323e+00],\n",
       "       [-1.18779381e+00,  4.65635512e-01],\n",
       "       [-1.28500455e+00,  2.62831011e-01],\n",
       "       [ 1.33968560e+00,  1.97218323e+00],\n",
       "       [ 1.24247485e+00, -1.35960499e+00],\n",
       "       [-3.12897090e-01, -2.87638347e-01],\n",
       "       [-5.07318583e-01,  1.24788144e+00],\n",
       "       [-7.98950822e-01,  1.07404901e+00],\n",
       "       [ 9.50842613e-01, -1.06988428e+00],\n",
       "       [ 2.70367388e-01,  2.91803083e-01],\n",
       "       [ 9.50842613e-01,  7.55356227e-01],\n",
       "       [-7.01740076e-01, -1.50446535e+00],\n",
       "       [-7.01740076e-01,  3.10544391e-02],\n",
       "       [ 4.64788881e-01,  1.71143459e+00],\n",
       "       [ 2.02016082e+00,  1.75914797e-01],\n",
       "       [-1.96547978e+00, -7.51191491e-01],\n",
       "       [-2.15686344e-01,  1.39274180e+00],\n",
       "       [ 3.67578135e-01,  5.81523798e-01],\n",
       "       [ 8.53631867e-01, -1.15680049e+00],\n",
       "       [-1.18779381e+00, -7.80163563e-01],\n",
       "       [ 1.73156642e-01,  2.33858940e-01],\n",
       "       [ 7.56421121e-01, -3.16610419e-01],\n",
       "       [ 2.02016082e+00, -8.09135634e-01],\n",
       "       [ 7.56421121e-01,  1.17970654e-01],\n",
       "       [-3.12897090e-01,  6.10495869e-01],\n",
       "       [-9.93372315e-01, -3.16610419e-01],\n",
       "       [ 1.73156642e-01, -3.74554562e-01],\n",
       "       [ 2.02016082e+00,  2.11704359e+00],\n",
       "       [ 1.82573933e+00, -1.27268878e+00],\n",
       "       [ 1.33968560e+00, -9.25023920e-01],\n",
       "       [ 8.53631867e-01,  1.24788144e+00],\n",
       "       [ 1.43689635e+00,  2.11704359e+00],\n",
       "       [-3.12897090e-01, -1.24371671e+00],\n",
       "       [ 1.92295008e+00,  9.00216584e-01],\n",
       "       [ 6.59210374e-01, -7.22219420e-01],\n",
       "       [-1.47942605e+00,  3.49747226e-01],\n",
       "       [ 7.56421121e-01, -1.35960499e+00],\n",
       "       [ 3.67578135e-01, -1.42777990e-01],\n",
       "       [-9.93372315e-01,  4.07691369e-01],\n",
       "       [-2.12648508e-02, -3.16610419e-01],\n",
       "       [-1.18779381e+00,  4.07691369e-01],\n",
       "       [-8.96161568e-01, -1.21474464e+00],\n",
       "       [-1.18475597e-01,  3.10544391e-02],\n",
       "       [-1.57663679e+00, -4.32498705e-01],\n",
       "       [ 9.50842613e-01, -1.01194013e+00],\n",
       "       [ 1.04805336e+00, -1.21474464e+00],\n",
       "       [-2.12648508e-02, -1.42777990e-01],\n",
       "       [-1.09058306e+00, -1.53343742e+00],\n",
       "       [ 7.56421121e-01, -1.21474464e+00],\n",
       "       [ 9.50842613e-01,  2.05909944e+00],\n",
       "       [-1.18779381e+00, -1.53343742e+00],\n",
       "       [-3.12897090e-01,  7.84328298e-01],\n",
       "       [ 7.59458956e-02, -3.16610419e-01],\n",
       "       [-1.38221530e+00, -1.24371671e+00],\n",
       "       [-6.04529329e-01, -1.50446535e+00],\n",
       "       [ 7.56421121e-01,  5.23579655e-01],\n",
       "       [-3.12897090e-01, -3.45582490e-01],\n",
       "       [ 1.72852858e+00, -2.87638347e-01],\n",
       "       [ 8.53631867e-01, -1.04091221e+00],\n",
       "       [ 1.73156642e-01,  6.00265106e-02],\n",
       "       [-6.04529329e-01,  8.71244512e-01],\n",
       "       [-1.86826903e+00, -1.41754914e+00],\n",
       "       [-1.28500455e+00,  5.81523798e-01],\n",
       "       [-3.12897090e-01,  5.23579655e-01],\n",
       "       [-9.93372315e-01, -1.09885635e+00],\n",
       "       [ 1.14526411e+00, -1.44652121e+00],\n",
       "       [ 1.73156642e-01, -3.16610419e-01],\n",
       "       [ 1.14526411e+00, -7.51191491e-01],\n",
       "       [-3.12897090e-01,  6.00265106e-02],\n",
       "       [ 1.73156642e-01,  2.08807152e+00],\n",
       "       [ 7.56421121e-01, -1.09885635e+00],\n",
       "       [ 7.59458956e-02,  3.10544391e-02],\n",
       "       [-1.77105829e+00,  1.17970654e-01],\n",
       "       [-8.96161568e-01,  1.46942725e-01],\n",
       "       [-7.01740076e-01,  1.75914797e-01],\n",
       "       [ 8.53631867e-01, -1.30166085e+00],\n",
       "       [ 1.73156642e-01, -2.58666276e-01],\n",
       "       [-4.10107836e-01,  1.21890937e+00],\n",
       "       [-2.12648508e-02,  2.91803083e-01],\n",
       "       [ 3.67578135e-01,  1.46942725e-01],\n",
       "       [ 8.53631867e-01, -6.64275277e-01],\n",
       "       [ 7.59458956e-02,  1.46942725e-01],\n",
       "       [-1.86826903e+00, -1.30166085e+00],\n",
       "       [-1.18475597e-01,  2.91803083e-01],\n",
       "       [-2.15686344e-01, -2.87638347e-01],\n",
       "       [ 2.70367388e-01, -5.19414919e-01],\n",
       "       [-2.15686344e-01,  1.59554630e+00],\n",
       "       [ 9.50842613e-01, -1.18577256e+00],\n",
       "       [-2.15686344e-01,  1.62451837e+00],\n",
       "       [ 1.24247485e+00,  1.85629494e+00],\n",
       "       [-1.09058306e+00, -3.74554562e-01],\n",
       "       [-2.12648508e-02,  3.10544391e-02],\n",
       "       [ 7.59458956e-02, -2.58666276e-01],\n",
       "       [-1.57663679e+00, -1.24371671e+00],\n",
       "       [-5.07318583e-01, -2.87638347e-01],\n",
       "       [ 9.50842613e-01,  1.17970654e-01],\n",
       "       [ 1.92295008e+00, -1.35960499e+00],\n",
       "       [ 1.43689635e+00,  6.00265106e-02],\n",
       "       [-6.04529329e-01,  1.36376973e+00],\n",
       "       [ 1.53410709e+00,  2.08236764e-03],\n",
       "       [-7.98950822e-01,  2.91803083e-01],\n",
       "       [ 1.92295008e+00,  7.26384155e-01],\n",
       "       [-1.18779381e+00, -5.19414919e-01],\n",
       "       [ 6.59210374e-01,  2.62831011e-01],\n",
       "       [-1.38221530e+00, -4.32498705e-01],\n",
       "       [ 1.73156642e-01,  1.46942725e-01],\n",
       "       [-5.07318583e-01, -1.21474464e+00],\n",
       "       [ 5.61999628e-01,  2.00115530e+00],\n",
       "       [-1.57663679e+00, -1.50446535e+00],\n",
       "       [-5.07318583e-01, -5.48386991e-01],\n",
       "       [ 4.64788881e-01,  1.82732287e+00],\n",
       "       [-1.38221530e+00, -1.09885635e+00],\n",
       "       [ 7.56421121e-01, -1.38857706e+00],\n",
       "       [-3.12897090e-01, -4.32498705e-01],\n",
       "       [ 1.53410709e+00,  9.87132798e-01],\n",
       "       [ 9.50842613e-01,  1.42171387e+00],\n",
       "       [-3.12897090e-01, -4.90442848e-01],\n",
       "       [-1.18475597e-01,  2.14601566e+00],\n",
       "       [-1.47942605e+00, -1.13805918e-01],\n",
       "       [-1.18475597e-01,  1.94321116e+00],\n",
       "       [-7.01740076e-01, -3.45582490e-01],\n",
       "       [-5.07318583e-01, -8.38107706e-01],\n",
       "       [ 6.59210374e-01, -1.38857706e+00],\n",
       "       [-7.98950822e-01, -1.59138156e+00],\n",
       "       [-1.86826903e+00, -1.47549328e+00],\n",
       "       [ 1.04805336e+00,  1.17970654e-01],\n",
       "       [ 7.59458956e-02,  1.50863009e+00],\n",
       "       [-3.12897090e-01,  8.89985821e-02],\n",
       "       [ 7.59458956e-02,  3.10544391e-02],\n",
       "       [-1.38221530e+00, -1.35960499e+00],\n",
       "       [ 2.70367388e-01,  6.00265106e-02],\n",
       "       [-8.96161568e-01,  3.78719297e-01],\n",
       "       [ 1.53410709e+00, -1.27268878e+00],\n",
       "       [-3.12897090e-01, -7.51191491e-01],\n",
       "       [-1.18475597e-01,  1.46942725e-01],\n",
       "       [-8.96161568e-01, -6.64275277e-01],\n",
       "       [-7.01740076e-01, -5.58617754e-02],\n",
       "       [ 3.67578135e-01, -4.61470776e-01],\n",
       "       [-7.98950822e-01,  1.88526701e+00],\n",
       "       [ 1.33968560e+00,  1.27685351e+00],\n",
       "       [ 1.14526411e+00, -9.82968063e-01],\n",
       "       [ 1.72852858e+00,  1.82732287e+00],\n",
       "       [-8.96161568e-01, -2.58666276e-01],\n",
       "       [-7.98950822e-01,  5.52551726e-01],\n",
       "       [-1.18779381e+00, -1.56240949e+00],\n",
       "       [-5.07318583e-01, -1.12782842e+00],\n",
       "       [ 2.70367388e-01,  6.00265106e-02],\n",
       "       [-2.15686344e-01, -1.06988428e+00],\n",
       "       [ 1.63131784e+00,  1.59554630e+00],\n",
       "       [ 9.50842613e-01,  1.76937873e+00],\n",
       "       [ 2.70367388e-01,  3.10544391e-02],\n",
       "       [-7.98950822e-01, -2.29694204e-01],\n",
       "       [-1.18475597e-01,  6.00265106e-02],\n",
       "       [ 2.70367388e-01, -2.00722133e-01],\n",
       "       [ 1.92295008e+00, -6.64275277e-01],\n",
       "       [-7.98950822e-01,  1.33479766e+00],\n",
       "       [-1.77105829e+00, -6.06331134e-01],\n",
       "       [-1.18475597e-01,  1.17970654e-01],\n",
       "       [ 2.70367388e-01, -3.16610419e-01],\n",
       "       [ 1.04805336e+00,  5.52551726e-01],\n",
       "       [-9.93372315e-01,  2.62831011e-01],\n",
       "       [ 1.43689635e+00,  3.49747226e-01],\n",
       "       [ 1.73156642e-01, -3.74554562e-01],\n",
       "       [ 2.11737157e+00, -1.04091221e+00],\n",
       "       [-3.12897090e-01,  1.10302108e+00],\n",
       "       [-1.67384754e+00,  6.00265106e-02],\n",
       "       [-2.12648508e-02,  3.10544391e-02],\n",
       "       [ 7.59458956e-02,  1.04507694e+00],\n",
       "       [-1.18475597e-01, -3.74554562e-01],\n",
       "       [-1.18779381e+00,  6.00265106e-02],\n",
       "       [-3.12897090e-01, -1.35960499e+00],\n",
       "       [ 1.53410709e+00,  1.10302108e+00],\n",
       "       [-7.98950822e-01, -1.53343742e+00],\n",
       "       [ 7.59458956e-02,  1.85629494e+00],\n",
       "       [-8.96161568e-01, -7.80163563e-01],\n",
       "       [-5.07318583e-01, -7.80163563e-01],\n",
       "       [-3.12897090e-01, -9.25023920e-01],\n",
       "       [ 2.70367388e-01, -7.22219420e-01],\n",
       "       [ 2.70367388e-01,  6.00265106e-02],\n",
       "       [ 7.59458956e-02,  1.85629494e+00],\n",
       "       [-1.09058306e+00,  1.94321116e+00],\n",
       "       [-1.67384754e+00, -1.56240949e+00],\n",
       "       [-1.18779381e+00, -1.09885635e+00],\n",
       "       [-7.01740076e-01, -1.13805918e-01],\n",
       "       [ 7.59458956e-02,  8.89985821e-02],\n",
       "       [ 2.70367388e-01,  2.62831011e-01],\n",
       "       [ 8.53631867e-01, -5.77359062e-01],\n",
       "       [ 2.70367388e-01, -1.15680049e+00],\n",
       "       [-1.18475597e-01,  6.68440012e-01],\n",
       "       [ 2.11737157e+00, -6.93247348e-01],\n",
       "       [-1.28500455e+00, -1.38857706e+00],\n",
       "       [-9.93372315e-01, -9.53995992e-01],\n",
       "       [-2.12648508e-02, -4.32498705e-01],\n",
       "       [-2.15686344e-01, -4.61470776e-01],\n",
       "       [-1.77105829e+00, -9.82968063e-01],\n",
       "       [ 1.72852858e+00,  9.87132798e-01],\n",
       "       [ 1.73156642e-01, -3.74554562e-01],\n",
       "       [ 3.67578135e-01,  1.10302108e+00],\n",
       "       [-1.77105829e+00, -1.35960499e+00],\n",
       "       [ 1.73156642e-01, -1.42777990e-01],\n",
       "       [ 8.53631867e-01, -1.44652121e+00],\n",
       "       [-1.96547978e+00,  4.65635512e-01],\n",
       "       [-3.12897090e-01,  2.62831011e-01],\n",
       "       [ 1.82573933e+00, -1.06988428e+00],\n",
       "       [-4.10107836e-01,  6.00265106e-02],\n",
       "       [ 1.04805336e+00, -8.96051849e-01],\n",
       "       [-1.09058306e+00, -1.12782842e+00],\n",
       "       [-1.86826903e+00,  2.08236764e-03],\n",
       "       [ 7.59458956e-02,  2.62831011e-01],\n",
       "       [-1.18779381e+00,  3.20775154e-01],\n",
       "       [-1.28500455e+00,  2.91803083e-01],\n",
       "       [-9.93372315e-01,  4.36663440e-01],\n",
       "       [ 1.63131784e+00, -8.96051849e-01],\n",
       "       [ 1.14526411e+00,  5.23579655e-01],\n",
       "       [ 1.04805336e+00,  5.23579655e-01],\n",
       "       [ 1.33968560e+00,  2.31984809e+00],\n",
       "       [-3.12897090e-01, -1.42777990e-01],\n",
       "       [ 3.67578135e-01, -4.61470776e-01],\n",
       "       [-4.10107836e-01, -7.80163563e-01],\n",
       "       [-1.18475597e-01, -5.19414919e-01],\n",
       "       [ 9.50842613e-01, -1.15680049e+00],\n",
       "       [-8.96161568e-01, -7.80163563e-01],\n",
       "       [-2.15686344e-01, -5.19414919e-01],\n",
       "       [-1.09058306e+00, -4.61470776e-01],\n",
       "       [-1.18779381e+00,  1.39274180e+00]])"
      ]
     },
     "execution_count": 9,
     "metadata": {},
     "output_type": "execute_result"
    }
   ],
   "source": [
    "X_train"
   ]
  },
  {
   "cell_type": "code",
   "execution_count": 10,
   "metadata": {},
   "outputs": [
    {
     "data": {
      "text/plain": [
       "array([[-7.98950822e-01,  4.94607583e-01],\n",
       "       [-2.12648508e-02, -5.77359062e-01],\n",
       "       [-3.12897090e-01,  1.46942725e-01],\n",
       "       [-7.98950822e-01,  2.62831011e-01],\n",
       "       [-3.12897090e-01, -5.77359062e-01],\n",
       "       [-1.09058306e+00, -1.44652121e+00],\n",
       "       [-7.01740076e-01, -1.59138156e+00],\n",
       "       [-2.15686344e-01,  2.14601566e+00],\n",
       "       [-1.96547978e+00, -5.58617754e-02],\n",
       "       [ 8.53631867e-01, -7.80163563e-01],\n",
       "       [-7.98950822e-01, -6.06331134e-01],\n",
       "       [-9.93372315e-01, -4.32498705e-01],\n",
       "       [-1.18475597e-01, -4.32498705e-01],\n",
       "       [ 7.59458956e-02,  2.04886868e-01],\n",
       "       [-1.77105829e+00,  4.65635512e-01],\n",
       "       [-6.04529329e-01,  1.36376973e+00],\n",
       "       [-1.18475597e-01,  2.04886868e-01],\n",
       "       [-1.86826903e+00,  4.36663440e-01],\n",
       "       [ 1.63131784e+00,  1.74040666e+00],\n",
       "       [-3.12897090e-01, -1.38857706e+00],\n",
       "       [-3.12897090e-01, -6.64275277e-01],\n",
       "       [ 8.53631867e-01,  2.14601566e+00],\n",
       "       [ 2.70367388e-01, -5.48386991e-01],\n",
       "       [ 8.53631867e-01,  1.01610487e+00],\n",
       "       [-1.47942605e+00, -1.21474464e+00],\n",
       "       [ 1.04805336e+00,  2.05909944e+00],\n",
       "       [-9.93372315e-01,  4.94607583e-01],\n",
       "       [-8.96161568e-01,  2.91803083e-01],\n",
       "       [-1.18475597e-01, -2.29694204e-01],\n",
       "       [-6.04529329e-01,  4.65635512e-01],\n",
       "       [-1.67384754e+00,  5.23579655e-01],\n",
       "       [-1.18475597e-01,  2.62831011e-01],\n",
       "       [ 1.82573933e+00, -2.87638347e-01],\n",
       "       [-1.18475597e-01, -4.90442848e-01],\n",
       "       [-1.38221530e+00, -3.45582490e-01],\n",
       "       [-1.96547978e+00, -5.19414919e-01],\n",
       "       [-1.57663679e+00,  3.20775154e-01],\n",
       "       [-4.10107836e-01, -7.80163563e-01],\n",
       "       [-7.01740076e-01, -1.04091221e+00],\n",
       "       [ 1.04805336e+00, -9.82968063e-01],\n",
       "       [-1.09058306e+00,  5.23579655e-01],\n",
       "       [ 2.70367388e-01, -5.19414919e-01],\n",
       "       [-1.09058306e+00,  4.07691369e-01],\n",
       "       [-3.12897090e-01, -1.44652121e+00],\n",
       "       [ 4.64788881e-01,  1.21890937e+00],\n",
       "       [-1.09058306e+00, -3.45582490e-01],\n",
       "       [-1.18475597e-01,  2.91803083e-01],\n",
       "       [ 1.33968560e+00,  5.81523798e-01],\n",
       "       [-1.18779381e+00, -1.15680049e+00],\n",
       "       [ 1.04805336e+00,  4.65635512e-01],\n",
       "       [ 1.82573933e+00,  1.50863009e+00],\n",
       "       [-4.10107836e-01, -1.30166085e+00],\n",
       "       [-3.12897090e-01, -3.74554562e-01],\n",
       "       [-4.10107836e-01,  1.30582558e+00],\n",
       "       [ 2.02016082e+00,  5.23579655e-01],\n",
       "       [ 6.59210374e-01, -1.09885635e+00],\n",
       "       [-8.96161568e-01,  3.78719297e-01],\n",
       "       [-1.18779381e+00,  2.91803083e-01],\n",
       "       [ 1.04805336e+00, -1.21474464e+00],\n",
       "       [-1.47942605e+00, -1.44652121e+00],\n",
       "       [-6.04529329e-01, -1.50446535e+00],\n",
       "       [ 2.11737157e+00, -8.09135634e-01],\n",
       "       [-1.86826903e+00,  1.75914797e-01],\n",
       "       [-2.15686344e-01,  8.42272441e-01],\n",
       "       [-1.86826903e+00, -1.27268878e+00],\n",
       "       [ 2.11737157e+00,  3.78719297e-01],\n",
       "       [-1.38221530e+00,  5.52551726e-01],\n",
       "       [-1.09058306e+00, -3.45582490e-01],\n",
       "       [ 1.73156642e-01, -6.64275277e-01],\n",
       "       [ 3.67578135e-01,  2.08236764e-03],\n",
       "       [-6.04529329e-01,  2.31984809e+00],\n",
       "       [-3.12897090e-01,  2.04886868e-01],\n",
       "       [-1.57663679e+00, -2.00722133e-01],\n",
       "       [ 6.59210374e-01, -1.38857706e+00],\n",
       "       [-1.09058306e+00,  5.52551726e-01],\n",
       "       [-1.96547978e+00,  3.49747226e-01],\n",
       "       [ 3.67578135e-01,  2.62831011e-01],\n",
       "       [ 1.73156642e-01, -2.87638347e-01],\n",
       "       [ 1.43689635e+00, -1.04091221e+00],\n",
       "       [ 8.53631867e-01,  1.07404901e+00]])"
      ]
     },
     "execution_count": 10,
     "metadata": {},
     "output_type": "execute_result"
    }
   ],
   "source": [
    "X_test"
   ]
  },
  {
   "cell_type": "markdown",
   "metadata": {},
   "source": [
    "## Training the Naive Bayes model on the Training set"
   ]
  },
  {
   "cell_type": "code",
   "execution_count": 11,
   "metadata": {},
   "outputs": [
    {
     "data": {
      "text/plain": [
       "GaussianNB()"
      ]
     },
     "execution_count": 11,
     "metadata": {},
     "output_type": "execute_result"
    }
   ],
   "source": [
    "from sklearn.naive_bayes import GaussianNB\n",
    "classifier = GaussianNB()\n",
    "classifier.fit(X_train,y_train)"
   ]
  },
  {
   "cell_type": "markdown",
   "metadata": {},
   "source": [
    "## Predicting a new result"
   ]
  },
  {
   "cell_type": "code",
   "execution_count": 12,
   "metadata": {},
   "outputs": [
    {
     "data": {
      "text/plain": [
       "array([0])"
      ]
     },
     "execution_count": 12,
     "metadata": {},
     "output_type": "execute_result"
    }
   ],
   "source": [
    "classifier.predict(sc.transform([[30,8700]]))"
   ]
  },
  {
   "cell_type": "markdown",
   "metadata": {},
   "source": [
    "## Predicting the Test set results"
   ]
  },
  {
   "cell_type": "code",
   "execution_count": 13,
   "metadata": {},
   "outputs": [
    {
     "data": {
      "text/plain": [
       "(array([0, 0, 0, 0, 0, 0, 0, 1, 0, 1, 0, 0, 0, 0, 0, 1, 0, 0, 1, 0, 0, 1,\n",
       "        0, 1, 0, 1, 0, 0, 0, 0, 0, 0, 1, 0, 0, 0, 0, 0, 0, 1, 0, 0, 0, 0,\n",
       "        1, 0, 0, 1, 0, 1, 1, 0, 0, 1, 1, 0, 0, 0, 1, 0, 0, 1, 0, 0, 0, 1,\n",
       "        0, 0, 0, 0, 1, 0, 0, 0, 0, 0, 0, 0, 1, 1]),\n",
       " array([0, 0, 0, 0, 0, 0, 0, 1, 0, 0, 0, 0, 0, 0, 0, 0, 0, 0, 1, 0, 0, 1,\n",
       "        0, 1, 0, 1, 0, 0, 0, 0, 0, 1, 1, 0, 0, 0, 0, 0, 0, 1, 0, 0, 0, 0,\n",
       "        1, 0, 0, 1, 0, 1, 1, 0, 0, 0, 1, 1, 0, 0, 1, 0, 0, 1, 0, 1, 0, 1,\n",
       "        0, 0, 0, 0, 1, 0, 0, 1, 0, 0, 0, 0, 1, 1]))"
      ]
     },
     "execution_count": 13,
     "metadata": {},
     "output_type": "execute_result"
    }
   ],
   "source": [
    "y_pred = classifier.predict(X_test)\n",
    "y_test = y_test.iloc[:].values\n",
    "y_pred,y_test"
   ]
  },
  {
   "cell_type": "markdown",
   "metadata": {},
   "source": [
    "## Making the Confusion Matrix"
   ]
  },
  {
   "cell_type": "code",
   "execution_count": 14,
   "metadata": {},
   "outputs": [
    {
     "name": "stdout",
     "output_type": "stream",
     "text": [
      "[[55  3]\n",
      " [ 4 18]]\n"
     ]
    },
    {
     "data": {
      "text/plain": [
       "0.9125"
      ]
     },
     "execution_count": 14,
     "metadata": {},
     "output_type": "execute_result"
    }
   ],
   "source": [
    "from sklearn.metrics import confusion_matrix, accuracy_score\n",
    "conf_mat = confusion_matrix(y_test,y_pred)\n",
    "print(conf_mat)\n",
    "accuracy_score(y_test,y_pred)"
   ]
  },
  {
   "cell_type": "markdown",
   "metadata": {},
   "source": [
    "## Visualising the Training set results"
   ]
  },
  {
   "cell_type": "code",
   "execution_count": 15,
   "metadata": {},
   "outputs": [
    {
     "name": "stderr",
     "output_type": "stream",
     "text": [
      "*c* argument looks like a single numeric RGB or RGBA sequence, which should be avoided as value-mapping will have precedence in case its length matches with *x* & *y*.  Please use the *color* keyword-argument or provide a 2-D array with a single row if you intend to specify the same RGB or RGBA value for all points.\n",
      "*c* argument looks like a single numeric RGB or RGBA sequence, which should be avoided as value-mapping will have precedence in case its length matches with *x* & *y*.  Please use the *color* keyword-argument or provide a 2-D array with a single row if you intend to specify the same RGB or RGBA value for all points.\n"
     ]
    },
    {
     "data": {
      "image/png": "[encoded data removed]",
      "text/plain": [
       "<Figure size 432x288 with 1 Axes>"
      ]
     },
     "metadata": {
      "needs_background": "light"
     },
     "output_type": "display_data"
    }
   ],
   "source": [
    "from matplotlib.colors import ListedColormap\n",
    "X_set, y_set = sc.inverse_transform(X_train), y_train\n",
    "X1, X2 = np.meshgrid(np.arange(start = X_set[:, 0].min() - 10, stop = X_set[:, 0].max() + 10, step = 0.25),\n",
    "                     np.arange(start = X_set[:, 1].min() - 1000, stop = X_set[:, 1].max() + 1000, step = 0.25))\n",
    "plt.contourf(X1, X2, classifier.predict(sc.transform(np.array([X1.ravel(), X2.ravel()]).T)).reshape(X1.shape),\n",
    "             alpha = 0.75, cmap = ListedColormap(('red', 'green')))\n",
    "plt.xlim(X1.min(), X1.max())\n",
    "plt.ylim(X2.min(), X2.max())\n",
    "for i, j in enumerate(np.unique(y_set)):\n",
    "    plt.scatter(X_set[y_set == j, 0], X_set[y_set == j, 1], c = ListedColormap(('red', 'green'))(i), label = j)\n",
    "plt.title('Naive Bayes (Training set)')\n",
    "plt.xlabel('Age')\n",
    "plt.ylabel('Estimated Salary')\n",
    "plt.legend()\n",
    "plt.show()"
   ]
  },
  {
   "cell_type": "markdown",
   "metadata": {},
   "source": [
    "## Visualising the Test set results"
   ]
  },
  {
   "cell_type": "code",
   "execution_count": 16,
   "metadata": {},
   "outputs": [
    {
     "name": "stderr",
     "output_type": "stream",
     "text": [
      "*c* argument looks like a single numeric RGB or RGBA sequence, which should be avoided as value-mapping will have precedence in case its length matches with *x* & *y*.  Please use the *color* keyword-argument or provide a 2-D array with a single row if you intend to specify the same RGB or RGBA value for all points.\n",
      "*c* argument looks like a single numeric RGB or RGBA sequence, which should be avoided as value-mapping will have precedence in case its length matches with *x* & *y*.  Please use the *color* keyword-argument or provide a 2-D array with a single row if you intend to specify the same RGB or RGBA value for all points.\n"
     ]
    },
    {
     "data": {
      "image/png": "[encoded data removed]",
      "text/plain": [
       "<Figure size 432x288 with 1 Axes>"
      ]
     },
     "metadata": {
      "needs_background": "light"
     },
     "output_type": "display_data"
    }
   ],
   "source": [
    "from matplotlib.colors import ListedColormap\n",
    "X_set, y_set = sc.inverse_transform(X_test), y_test\n",
    "X1, X2 = np.meshgrid(np.arange(start = X_set[:, 0].min() - 10, stop = X_set[:, 0].max() + 10, step = 0.25),\n",
    "                     np.arange(start = X_set[:, 1].min() - 1000, stop = X_set[:, 1].max() + 1000, step = 0.25))\n",
    "plt.contourf(X1, X2, classifier.predict(sc.transform(np.array([X1.ravel(), X2.ravel()]).T)).reshape(X1.shape),\n",
    "             alpha = 0.75, cmap = ListedColormap(('red', 'green')))\n",
    "plt.xlim(X1.min(), X1.max())\n",
    "plt.ylim(X2.min(), X2.max())\n",
    "for i, j in enumerate(np.unique(y_set)):\n",
    "    plt.scatter(X_set[y_set == j, 0], X_set[y_set == j, 1], c = ListedColormap(('red', 'green'))(i), label = j)\n",
    "plt.title('Naive Bayes (Test set)')\n",
    "plt.xlabel('Age')\n",
    "plt.ylabel('Estimated Salary')\n",
    "plt.legend()\n",
    "plt.show()"
   ]
  }
 ],
 "metadata": {
  "kernelspec": {
   "display_name": "Python 3",
   "language": "python",
   "name": "python3"
  },
  "language_info": {
   "codemirror_mode": {
    "name": "ipython",
    "version": 3
   },
   "file_extension": ".py",
   "mimetype": "text/x-python",
   "name": "python",
   "nbconvert_exporter": "python",
   "pygments_lexer": "ipython3",
   "version": "3.8.3"
  }
 },
 "nbformat": 4,
 "nbformat_minor": 4
}
