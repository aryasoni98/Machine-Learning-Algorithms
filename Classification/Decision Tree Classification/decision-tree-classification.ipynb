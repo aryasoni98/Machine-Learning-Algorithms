{
 "cells": [
  {
   "cell_type": "markdown",
   "metadata": {},
   "source": [
    "## Decision Tree Classification\n",
    "\n",
    "This algorithm works similar like decision tree regression. The data is first divided into splits. These splits are based on information entropy. A new point on the dataset is classified by going trough the decision tree created form these splits. and hence calculating its probability."
   ]
  },
  {
   "cell_type": "markdown",
   "metadata": {},
   "source": [
    "## Importing the libraries"
   ]
  },
  {
   "cell_type": "code",
   "execution_count": 1,
   "metadata": {},
   "outputs": [],
   "source": [
    "import pandas as pd\n",
    "import numpy as np\n",
    "import matplotlib.pyplot as plt"
   ]
  },
  {
   "cell_type": "markdown",
   "metadata": {},
   "source": [
    "## Importing the dataset"
   ]
  },
  {
   "cell_type": "code",
   "execution_count": 2,
   "metadata": {},
   "outputs": [],
   "source": [
    "dataset = pd.read_csv('Social_Network_Ads.csv')\n",
    "X = dataset.drop('Purchased',axis = 1)\n",
    "y = dataset['Purchased']"
   ]
  },
  {
   "cell_type": "markdown",
   "metadata": {},
   "source": [
    "## Splitting the dataset into the Training set and Test set"
   ]
  },
  {
   "cell_type": "code",
   "execution_count": 3,
   "metadata": {},
   "outputs": [],
   "source": [
    "from sklearn.model_selection import train_test_split\n",
    "X_train, X_test, y_train, y_test = train_test_split(X, y, test_size = 0.2)"
   ]
  },
  {
   "cell_type": "code",
   "execution_count": 4,
   "metadata": {},
   "outputs": [
    {
     "data": {
      "text/html": [
       "<div>\n",
       "<style scoped>\n",
       "    .dataframe tbody tr th:only-of-type {\n",
       "        vertical-align: middle;\n",
       "    }\n",
       "\n",
       "    .dataframe tbody tr th {\n",
       "        vertical-align: top;\n",
       "    }\n",
       "\n",
       "    .dataframe thead th {\n",
       "        text-align: right;\n",
       "    }\n",
       "</style>\n",
       "<table border=\"1\" class=\"dataframe\">\n",
       "  <thead>\n",
       "    <tr style=\"text-align: right;\">\n",
       "      <th></th>\n",
       "      <th>Age</th>\n",
       "      <th>EstimatedSalary</th>\n",
       "    </tr>\n",
       "  </thead>\n",
       "  <tbody>\n",
       "    <tr>\n",
       "      <th>348</th>\n",
       "      <td>39</td>\n",
       "      <td>77000</td>\n",
       "    </tr>\n",
       "    <tr>\n",
       "      <th>161</th>\n",
       "      <td>25</td>\n",
       "      <td>90000</td>\n",
       "    </tr>\n",
       "    <tr>\n",
       "      <th>199</th>\n",
       "      <td>35</td>\n",
       "      <td>22000</td>\n",
       "    </tr>\n",
       "    <tr>\n",
       "      <th>388</th>\n",
       "      <td>47</td>\n",
       "      <td>34000</td>\n",
       "    </tr>\n",
       "    <tr>\n",
       "      <th>301</th>\n",
       "      <td>48</td>\n",
       "      <td>74000</td>\n",
       "    </tr>\n",
       "    <tr>\n",
       "      <th>...</th>\n",
       "      <td>...</td>\n",
       "      <td>...</td>\n",
       "    </tr>\n",
       "    <tr>\n",
       "      <th>155</th>\n",
       "      <td>31</td>\n",
       "      <td>15000</td>\n",
       "    </tr>\n",
       "    <tr>\n",
       "      <th>255</th>\n",
       "      <td>52</td>\n",
       "      <td>90000</td>\n",
       "    </tr>\n",
       "    <tr>\n",
       "      <th>358</th>\n",
       "      <td>40</td>\n",
       "      <td>71000</td>\n",
       "    </tr>\n",
       "    <tr>\n",
       "      <th>322</th>\n",
       "      <td>41</td>\n",
       "      <td>52000</td>\n",
       "    </tr>\n",
       "    <tr>\n",
       "      <th>364</th>\n",
       "      <td>42</td>\n",
       "      <td>104000</td>\n",
       "    </tr>\n",
       "  </tbody>\n",
       "</table>\n",
       "<p>320 rows × 2 columns</p>\n",
       "</div>"
      ],
      "text/plain": [
       "     Age  EstimatedSalary\n",
       "348   39            77000\n",
       "161   25            90000\n",
       "199   35            22000\n",
       "388   47            34000\n",
       "301   48            74000\n",
       "..   ...              ...\n",
       "155   31            15000\n",
       "255   52            90000\n",
       "358   40            71000\n",
       "322   41            52000\n",
       "364   42           104000\n",
       "\n",
       "[320 rows x 2 columns]"
      ]
     },
     "execution_count": 4,
     "metadata": {},
     "output_type": "execute_result"
    }
   ],
   "source": [
    "X_train"
   ]
  },
  {
   "cell_type": "code",
   "execution_count": 5,
   "metadata": {},
   "outputs": [
    {
     "data": {
      "text/plain": [
       "348    0\n",
       "161    0\n",
       "199    0\n",
       "388    1\n",
       "301    1\n",
       "      ..\n",
       "155    0\n",
       "255    1\n",
       "358    1\n",
       "322    0\n",
       "364    1\n",
       "Name: Purchased, Length: 320, dtype: int64"
      ]
     },
     "execution_count": 5,
     "metadata": {},
     "output_type": "execute_result"
    }
   ],
   "source": [
    "y_train"
   ]
  },
  {
   "cell_type": "code",
   "execution_count": 6,
   "metadata": {},
   "outputs": [
    {
     "data": {
      "text/html": [
       "<div>\n",
       "<style scoped>\n",
       "    .dataframe tbody tr th:only-of-type {\n",
       "        vertical-align: middle;\n",
       "    }\n",
       "\n",
       "    .dataframe tbody tr th {\n",
       "        vertical-align: top;\n",
       "    }\n",
       "\n",
       "    .dataframe thead th {\n",
       "        text-align: right;\n",
       "    }\n",
       "</style>\n",
       "<table border=\"1\" class=\"dataframe\">\n",
       "  <thead>\n",
       "    <tr style=\"text-align: right;\">\n",
       "      <th></th>\n",
       "      <th>Age</th>\n",
       "      <th>EstimatedSalary</th>\n",
       "    </tr>\n",
       "  </thead>\n",
       "  <tbody>\n",
       "    <tr>\n",
       "      <th>38</th>\n",
       "      <td>26</td>\n",
       "      <td>72000</td>\n",
       "    </tr>\n",
       "    <tr>\n",
       "      <th>345</th>\n",
       "      <td>41</td>\n",
       "      <td>63000</td>\n",
       "    </tr>\n",
       "    <tr>\n",
       "      <th>357</th>\n",
       "      <td>41</td>\n",
       "      <td>72000</td>\n",
       "    </tr>\n",
       "    <tr>\n",
       "      <th>295</th>\n",
       "      <td>36</td>\n",
       "      <td>63000</td>\n",
       "    </tr>\n",
       "    <tr>\n",
       "      <th>127</th>\n",
       "      <td>26</td>\n",
       "      <td>32000</td>\n",
       "    </tr>\n",
       "    <tr>\n",
       "      <th>...</th>\n",
       "      <td>...</td>\n",
       "      <td>...</td>\n",
       "    </tr>\n",
       "    <tr>\n",
       "      <th>132</th>\n",
       "      <td>30</td>\n",
       "      <td>87000</td>\n",
       "    </tr>\n",
       "    <tr>\n",
       "      <th>177</th>\n",
       "      <td>25</td>\n",
       "      <td>22000</td>\n",
       "    </tr>\n",
       "    <tr>\n",
       "      <th>108</th>\n",
       "      <td>26</td>\n",
       "      <td>86000</td>\n",
       "    </tr>\n",
       "    <tr>\n",
       "      <th>270</th>\n",
       "      <td>43</td>\n",
       "      <td>133000</td>\n",
       "    </tr>\n",
       "    <tr>\n",
       "      <th>285</th>\n",
       "      <td>37</td>\n",
       "      <td>93000</td>\n",
       "    </tr>\n",
       "  </tbody>\n",
       "</table>\n",
       "<p>80 rows × 2 columns</p>\n",
       "</div>"
      ],
      "text/plain": [
       "     Age  EstimatedSalary\n",
       "38    26            72000\n",
       "345   41            63000\n",
       "357   41            72000\n",
       "295   36            63000\n",
       "127   26            32000\n",
       "..   ...              ...\n",
       "132   30            87000\n",
       "177   25            22000\n",
       "108   26            86000\n",
       "270   43           133000\n",
       "285   37            93000\n",
       "\n",
       "[80 rows x 2 columns]"
      ]
     },
     "execution_count": 6,
     "metadata": {},
     "output_type": "execute_result"
    }
   ],
   "source": [
    "X_test"
   ]
  },
  {
   "cell_type": "code",
   "execution_count": 7,
   "metadata": {},
   "outputs": [
    {
     "data": {
      "text/plain": [
       "38     0\n",
       "345    0\n",
       "357    0\n",
       "295    0\n",
       "127    0\n",
       "      ..\n",
       "132    0\n",
       "177    0\n",
       "108    0\n",
       "270    0\n",
       "285    1\n",
       "Name: Purchased, Length: 80, dtype: int64"
      ]
     },
     "execution_count": 7,
     "metadata": {},
     "output_type": "execute_result"
    }
   ],
   "source": [
    "y_test"
   ]
  },
  {
   "cell_type": "markdown",
   "metadata": {},
   "source": [
    "## Feature Scaling"
   ]
  },
  {
   "cell_type": "code",
   "execution_count": 8,
   "metadata": {},
   "outputs": [],
   "source": [
    "from sklearn.preprocessing import StandardScaler\n",
    "sc = StandardScaler()\n",
    "X_train = sc.fit_transform(X_train)\n",
    "X_test = sc.transform(X_test)"
   ]
  },
  {
   "cell_type": "code",
   "execution_count": 9,
   "metadata": {},
   "outputs": [
    {
     "data": {
      "text/plain": [
       "array([[ 0.08559932,  0.22428734],\n",
       "       [-1.25058522,  0.60172883],\n",
       "       [-0.29616769, -1.37258048],\n",
       "       [ 0.84913334, -1.02417296],\n",
       "       [ 0.9445751 ,  0.13718546],\n",
       "       [ 0.65824984, -0.70479939],\n",
       "       [-0.00984243,  1.26950992],\n",
       "       [ 1.23090035,  2.22763062],\n",
       "       [ 0.37192458, -0.44349375],\n",
       "       [-1.05970171,  0.42752507],\n",
       "       [-0.6779347 , -0.0370183 ],\n",
       "       [ 0.18104107, -0.64673147],\n",
       "       [ 0.9445751 ,  0.60172883],\n",
       "       [-0.20072594, -0.26928998],\n",
       "       [ 0.9445751 ,  1.87922309],\n",
       "       [-0.29616769, -1.4306484 ],\n",
       "       [ 1.89899262,  2.1695627 ],\n",
       "       [ 0.37192458,  0.02104962],\n",
       "       [ 0.75369159,  0.36945715],\n",
       "       [-0.29616769,  1.12434012],\n",
       "       [-0.29616769, -0.35639186],\n",
       "       [-0.29616769, -1.2854786 ],\n",
       "       [ 0.37192458,  0.60172883],\n",
       "       [-0.29616769,  0.16621942],\n",
       "       [-0.00984243, -0.24025602],\n",
       "       [-1.05970171, -1.11127484],\n",
       "       [-0.20072594, -0.55962959],\n",
       "       [-0.10528418, -0.41445979],\n",
       "       [-0.29616769, -0.26928998],\n",
       "       [ 1.42178386,  2.14052874],\n",
       "       [-0.96425996, -0.29832394],\n",
       "       [ 0.75369159, -0.82093523],\n",
       "       [ 1.51722561,  1.00820428],\n",
       "       [ 1.70810912,  1.00820428],\n",
       "       [-0.96425996, -0.41445979],\n",
       "       [-0.10528418,  2.22763062],\n",
       "       [ 0.27648283,  0.07911754],\n",
       "       [ 0.27648283, -0.70479939],\n",
       "       [-1.15514346,  0.31138923],\n",
       "       [ 2.08987613, -0.67576543],\n",
       "       [ 0.27648283,  0.31138923],\n",
       "       [-0.58249295, -1.48871632],\n",
       "       [-1.15514346,  0.42752507],\n",
       "       [ 0.65824984, -1.37258048],\n",
       "       [-1.05970171,  0.54366091],\n",
       "       [-0.00984243,  0.05008358],\n",
       "       [ 1.42178386,  0.07911754],\n",
       "       [-0.96425996, -0.93707107],\n",
       "       [ 0.84913334, -1.1403088 ],\n",
       "       [ 1.70810912,  1.85018913],\n",
       "       [-0.77337645,  1.09530616],\n",
       "       [-0.48705119, -0.82093523],\n",
       "       [-0.20072594, -0.50156167],\n",
       "       [ 1.51722561, -1.25644464],\n",
       "       [ 0.84913334, -0.76286731],\n",
       "       [ 0.9445751 , -0.82093523],\n",
       "       [ 1.04001685,  0.13718546],\n",
       "       [ 1.42178386,  1.00820428],\n",
       "       [ 1.51722561,  0.02104962],\n",
       "       [-1.05970171, -0.44349375],\n",
       "       [ 1.04001685, -0.12412018],\n",
       "       [ 1.23090035, -1.34354652],\n",
       "       [-1.82323573,  0.45655903],\n",
       "       [-0.00984243,  0.31138923],\n",
       "       [-1.15514346, -1.51775028],\n",
       "       [ 1.80355087, -0.26928998],\n",
       "       [-1.05970171, -0.3273579 ],\n",
       "       [-0.29616769, -0.12412018],\n",
       "       [-0.8688182 ,  0.39849111],\n",
       "       [-1.15514346, -1.57581821],\n",
       "       [ 1.99443438,  0.19525338],\n",
       "       [ 1.89899262, -0.90803711],\n",
       "       [-0.58249295,  0.48559299],\n",
       "       [-0.77337645, -1.51775028],\n",
       "       [-0.29616769,  0.16621942],\n",
       "       [-0.48705119,  1.26950992],\n",
       "       [ 0.27648283,  0.28235527],\n",
       "       [ 0.18104107,  0.25332131],\n",
       "       [ 0.08559932,  1.87922309],\n",
       "       [-0.20072594,  1.64695141],\n",
       "       [-0.29616769, -0.3273579 ],\n",
       "       [-1.44146872, -0.1821881 ],\n",
       "       [ 0.18104107, -0.29832394],\n",
       "       [ 1.99443438,  0.39849111],\n",
       "       [ 0.18104107, -0.35639186],\n",
       "       [-0.48705119, -0.00798434],\n",
       "       [ 0.37192458, -0.15315414],\n",
       "       [-0.29616769,  0.07911754],\n",
       "       [ 0.84913334, -0.58866355],\n",
       "       [ 0.46736633,  1.73405329],\n",
       "       [ 1.80355087,  0.13718546],\n",
       "       [ 1.1354586 , -1.4306484 ],\n",
       "       [-1.91867748,  0.48559299],\n",
       "       [-0.29616769, -1.34354652],\n",
       "       [ 0.84913334, -1.34354652],\n",
       "       [ 0.08559932, -0.79190127],\n",
       "       [ 0.84913334, -0.55962959],\n",
       "       [ 0.65824984, -1.25644464],\n",
       "       [-0.00984243, -0.41445979],\n",
       "       [-1.53691047,  0.34042319],\n",
       "       [ 0.37192458, -0.12412018],\n",
       "       [-0.8688182 ,  0.31138923],\n",
       "       [-0.48705119, -1.11127484],\n",
       "       [-0.6779347 , -0.3273579 ],\n",
       "       [ 1.51722561,  1.12434012],\n",
       "       [-0.8688182 , -0.64673147],\n",
       "       [-0.8688182 ,  0.39849111],\n",
       "       [-0.10528418, -1.05320692],\n",
       "       [ 0.08559932,  0.05008358],\n",
       "       [ 1.80355087, -1.25644464],\n",
       "       [-0.96425996, -1.08224088],\n",
       "       [-0.00984243, -0.53059563],\n",
       "       [-0.00984243,  0.05008358],\n",
       "       [-0.96425996,  1.55984953],\n",
       "       [ 0.9445751 ,  1.79212121],\n",
       "       [-0.6779347 ,  0.19525338],\n",
       "       [-0.20072594, -1.05320692],\n",
       "       [ 1.04001685, -1.19837672],\n",
       "       [ 0.18104107, -0.12412018],\n",
       "       [-0.39160944,  1.24047596],\n",
       "       [-1.63235223, -0.0370183 ],\n",
       "       [-0.77337645,  1.3566118 ],\n",
       "       [ 0.37192458,  0.1081515 ],\n",
       "       [ 0.56280809,  2.02439289],\n",
       "       [ 1.32634211,  1.29854388],\n",
       "       [ 1.04001685,  0.57269487],\n",
       "       [-0.29616769, -0.64673147],\n",
       "       [ 0.18104107,  0.16621942],\n",
       "       [-1.53691047, -0.1821881 ],\n",
       "       [-0.29616769, -0.29832394],\n",
       "       [-0.10528418, -0.47252771],\n",
       "       [-1.91867748,  0.36945715],\n",
       "       [ 0.27648283,  0.05008358],\n",
       "       [ 2.08987613,  0.95013636],\n",
       "       [ 0.37192458,  0.28235527],\n",
       "       [-1.34602697, -0.41445979],\n",
       "       [ 0.08559932,  0.1081515 ],\n",
       "       [-0.29616769, -0.55962959],\n",
       "       [-1.15514346, -0.995139  ],\n",
       "       [ 1.32634211, -0.90803711],\n",
       "       [-1.15514346, -1.1403088 ],\n",
       "       [ 1.04001685, -1.19837672],\n",
       "       [ 0.84913334,  2.1695627 ],\n",
       "       [ 0.75369159, -1.19837672],\n",
       "       [-1.15514346, -1.54678424],\n",
       "       [-1.15514346,  1.41467972],\n",
       "       [-1.72779398, -1.34354652],\n",
       "       [ 1.99443438,  2.14052874],\n",
       "       [-0.58249295,  1.38564576],\n",
       "       [ 0.75369159, -0.29832394],\n",
       "       [ 0.9445751 ,  0.77593259],\n",
       "       [ 0.9445751 , -1.05320692],\n",
       "       [ 1.99443438,  1.76308725],\n",
       "       [-1.34602697, -1.34354652],\n",
       "       [-0.48705119,  2.3147325 ],\n",
       "       [-0.58249295,  2.34376646],\n",
       "       [-1.25058522,  0.51462695],\n",
       "       [-0.8688182 , -1.19837672],\n",
       "       [ 0.37192458, -0.12412018],\n",
       "       [ 0.18104107, -0.26928998],\n",
       "       [-0.58249295,  0.89206844],\n",
       "       [-1.25058522,  0.28235527],\n",
       "       [-0.10528418,  0.05008358],\n",
       "       [-1.15514346, -1.57581821],\n",
       "       [-1.25058522,  0.31138923],\n",
       "       [-0.10528418,  0.31138923],\n",
       "       [ 0.27648283,  0.51462695],\n",
       "       [-0.58249295, -1.48871632],\n",
       "       [-0.39160944, -0.76286731],\n",
       "       [-0.8688182 , -0.24025602],\n",
       "       [ 0.18104107, -0.35639186],\n",
       "       [-1.82323573, -1.2854786 ],\n",
       "       [ 1.70810912, -0.26928998],\n",
       "       [ 1.89899262, -0.64673147],\n",
       "       [ 0.84913334,  1.26950992],\n",
       "       [ 1.61266736,  1.61791745],\n",
       "       [-0.29616769,  0.05008358],\n",
       "       [ 0.37192458,  0.31138923],\n",
       "       [ 1.80355087,  1.53081557],\n",
       "       [-0.29616769,  0.63076279],\n",
       "       [-1.82323573, -1.40161444],\n",
       "       [ 1.42178386,  0.36945715],\n",
       "       [-1.72779398,  0.36945715],\n",
       "       [-0.96425996,  0.42752507],\n",
       "       [ 0.84913334, -1.4306484 ],\n",
       "       [ 0.75369159,  0.13718546],\n",
       "       [ 0.75369159,  0.28235527],\n",
       "       [-1.82323573, -1.25644464],\n",
       "       [-0.29616769,  0.28235527],\n",
       "       [-0.6779347 , -1.02417296],\n",
       "       [-0.10528418,  1.96632497],\n",
       "       [ 0.84913334, -0.53059563],\n",
       "       [-1.91867748, -0.73383335],\n",
       "       [ 1.04001685,  2.08246082],\n",
       "       [ 0.37192458,  1.12434012],\n",
       "       [ 0.08559932, -0.79190127],\n",
       "       [-1.72779398,  0.48559299],\n",
       "       [ 0.9445751 , -1.1403088 ],\n",
       "       [-0.8688182 , -0.76286731],\n",
       "       [ 1.32634211,  1.99535893],\n",
       "       [-0.10528418,  0.22428734],\n",
       "       [-0.48705119, -0.53059563],\n",
       "       [ 0.08559932,  1.53081557],\n",
       "       [ 0.9445751 , -0.995139  ],\n",
       "       [-0.20072594,  1.61791745],\n",
       "       [-0.00984243, -0.29832394],\n",
       "       [-1.15514346,  0.34042319],\n",
       "       [ 0.18104107, -0.24025602],\n",
       "       [ 1.1354586 , -0.73383335],\n",
       "       [-0.10528418, -0.21122206],\n",
       "       [ 0.65824984, -1.37258048],\n",
       "       [-0.10528418,  2.1695627 ],\n",
       "       [-0.6779347 , -1.48871632],\n",
       "       [ 0.08559932,  1.87922309],\n",
       "       [-0.00984243, -0.24025602],\n",
       "       [ 0.08559932,  0.28235527],\n",
       "       [-0.29616769, -0.24025602],\n",
       "       [-0.29616769, -1.22741068],\n",
       "       [ 0.18104107, -0.35639186],\n",
       "       [-0.29616769,  0.80496655],\n",
       "       [-0.8688182 ,  0.16621942],\n",
       "       [-1.44146872, -1.19837672],\n",
       "       [ 1.89899262,  0.9211024 ],\n",
       "       [-0.10528418, -0.50156167],\n",
       "       [-0.6779347 ,  0.05008358],\n",
       "       [-0.77337645, -0.58866355],\n",
       "       [ 1.99443438, -0.79190127],\n",
       "       [-0.96425996,  0.45655903],\n",
       "       [-0.77337645, -0.21122206],\n",
       "       [ 0.27648283,  0.07911754],\n",
       "       [-1.34602697, -1.45968236],\n",
       "       [ 0.56280809, -0.87900315],\n",
       "       [-0.8688182 , -0.76286731],\n",
       "       [-1.91867748, -0.50156167],\n",
       "       [-1.44146872, -0.09508622],\n",
       "       [-1.44146872, -1.4306484 ],\n",
       "       [ 0.75369159,  1.38564576],\n",
       "       [ 1.32634211,  2.34376646],\n",
       "       [ 1.89899262, -1.34354652],\n",
       "       [-0.10528418,  0.02104962],\n",
       "       [-0.77337645, -1.57581821],\n",
       "       [ 0.37192458,  0.31138923],\n",
       "       [-1.53691047, -0.41445979],\n",
       "       [-1.05970171, -0.3273579 ],\n",
       "       [ 0.08559932,  1.0662722 ],\n",
       "       [-0.8688182 ,  2.28569854],\n",
       "       [-1.05970171, -0.35639186],\n",
       "       [ 0.37192458, -0.47252771],\n",
       "       [-1.34602697,  0.57269487],\n",
       "       [-1.53691047, -1.48871632],\n",
       "       [ 0.08559932,  0.05008358],\n",
       "       [ 0.84913334, -1.2854786 ],\n",
       "       [ 0.27648283, -0.50156167],\n",
       "       [-0.20072594,  0.86303448],\n",
       "       [-0.10528418,  0.25332131],\n",
       "       [-0.29616769,  2.25666458],\n",
       "       [ 0.18104107,  0.16621942],\n",
       "       [ 0.18104107,  1.09530616],\n",
       "       [-0.77337645,  1.90825705],\n",
       "       [-0.6779347 , -0.09508622],\n",
       "       [-0.6779347 ,  0.57269487],\n",
       "       [-0.10528418,  0.13718546],\n",
       "       [ 0.84913334, -0.64673147],\n",
       "       [-1.34602697, -1.08224088],\n",
       "       [-1.63235223,  0.07911754],\n",
       "       [ 1.61266736, -0.87900315],\n",
       "       [-0.29616769, -0.90803711],\n",
       "       [-1.44146872,  0.36945715],\n",
       "       [-0.58249295,  1.38564576],\n",
       "       [-0.29616769,  0.54366091],\n",
       "       [ 0.9445751 , -1.05320692],\n",
       "       [-1.05970171,  0.57269487],\n",
       "       [-0.20072594, -0.44349375],\n",
       "       [ 0.27648283, -1.1403088 ],\n",
       "       [ 0.84913334,  1.09530616],\n",
       "       [-0.48705119, -0.76286731],\n",
       "       [ 2.08987613, -1.02417296],\n",
       "       [-1.05970171, -1.51775028],\n",
       "       [-0.00984243, -0.55962959],\n",
       "       [-0.39160944, -0.76286731],\n",
       "       [-0.29616769,  0.1081515 ],\n",
       "       [ 0.27648283, -0.29832394],\n",
       "       [ 0.9445751 ,  1.99535893],\n",
       "       [ 0.9445751 ,  2.08246082],\n",
       "       [-1.82323573,  0.19525338],\n",
       "       [-0.58249295,  1.47274765],\n",
       "       [-0.29616769,  0.07911754],\n",
       "       [ 0.37192458, -0.44349375],\n",
       "       [-0.77337645,  0.57269487],\n",
       "       [ 2.08987613, -0.79190127],\n",
       "       [ 1.99443438, -1.16934276],\n",
       "       [-0.00984243, -0.12412018],\n",
       "       [ 1.32634211, -1.40161444],\n",
       "       [ 1.42178386, -1.02417296],\n",
       "       [-0.10528418,  0.31138923],\n",
       "       [ 1.23090035,  1.87922309],\n",
       "       [ 0.75369159, -1.37258048],\n",
       "       [ 1.04001685,  0.48559299],\n",
       "       [-1.82323573, -1.45968236],\n",
       "       [ 0.37192458,  0.16621942],\n",
       "       [ 1.61266736,  1.76308725],\n",
       "       [ 1.04001685, -0.87900315],\n",
       "       [-1.91867748, -0.0370183 ],\n",
       "       [-0.10528418,  0.28235527],\n",
       "       [ 0.75369159,  0.77593259],\n",
       "       [-0.00984243,  1.24047596],\n",
       "       [-1.72779398, -0.96610503],\n",
       "       [-1.53691047, -1.22741068],\n",
       "       [ 0.18104107,  0.07911754],\n",
       "       [ 0.27648283,  0.07911754],\n",
       "       [-0.6779347 ,  1.41467972],\n",
       "       [-0.96425996, -0.73383335],\n",
       "       [-1.15514346, -0.50156167],\n",
       "       [ 1.89899262,  0.74689863],\n",
       "       [-0.77337645,  0.31138923],\n",
       "       [-0.6779347 , -1.57581821],\n",
       "       [ 1.32634211,  0.60172883],\n",
       "       [ 0.18104107,  0.05008358],\n",
       "       [ 0.27648283, -0.50156167],\n",
       "       [ 0.37192458,  1.00820428]])"
      ]
     },
     "execution_count": 9,
     "metadata": {},
     "output_type": "execute_result"
    }
   ],
   "source": [
    "X_train"
   ]
  },
  {
   "cell_type": "code",
   "execution_count": 10,
   "metadata": {},
   "outputs": [
    {
     "data": {
      "text/plain": [
       "array([[-1.15514346,  0.07911754],\n",
       "       [ 0.27648283, -0.1821881 ],\n",
       "       [ 0.27648283,  0.07911754],\n",
       "       [-0.20072594, -0.1821881 ],\n",
       "       [-1.15514346, -1.08224088],\n",
       "       [-0.96425996, -0.29832394],\n",
       "       [ 0.37192458,  2.3147325 ],\n",
       "       [ 0.08559932,  0.16621942],\n",
       "       [-0.29616769,  0.22428734],\n",
       "       [-1.05970171,  1.96632497],\n",
       "       [-1.72779398,  0.36945715],\n",
       "       [-1.34602697, -1.22741068],\n",
       "       [-0.29616769, -0.47252771],\n",
       "       [ 1.99443438,  0.54366091],\n",
       "       [ 0.18104107,  2.11149478],\n",
       "       [-1.34602697,  0.42752507],\n",
       "       [-0.29616769, -0.87900315],\n",
       "       [ 1.1354586 ,  0.54366091],\n",
       "       [-0.10528418,  0.07911754],\n",
       "       [-0.48705119, -0.26928998],\n",
       "       [-1.72779398, -0.58866355],\n",
       "       [-0.96425996,  0.51462695],\n",
       "       [-1.63235223, -1.54678424],\n",
       "       [ 1.04001685, -0.96610503],\n",
       "       [ 0.08559932, -0.24025602],\n",
       "       [-1.25058522, -1.05320692],\n",
       "       [-1.05970171,  0.77593259],\n",
       "       [-0.20072594,  1.41467972],\n",
       "       [ 0.9445751 , -1.16934276],\n",
       "       [-0.29616769, -0.55962959],\n",
       "       [-1.05970171,  0.60172883],\n",
       "       [ 0.75369159,  0.54366091],\n",
       "       [ 0.75369159, -1.34354652],\n",
       "       [-1.05970171, -1.4306484 ],\n",
       "       [ 0.27648283, -0.53059563],\n",
       "       [-1.63235223,  0.54366091],\n",
       "       [ 0.65824984,  0.28235527],\n",
       "       [ 0.08559932, -0.29832394],\n",
       "       [-1.44146872, -0.61769751],\n",
       "       [ 2.08987613, -0.79190127],\n",
       "       [-0.39160944, -1.2854786 ],\n",
       "       [ 0.84913334,  1.03723824],\n",
       "       [-0.96425996,  0.28235527],\n",
       "       [-0.10528418, -0.35639186],\n",
       "       [-1.82323573,  0.02104962],\n",
       "       [-0.29616769, -0.73383335],\n",
       "       [ 1.1354586 , -0.96610503],\n",
       "       [-0.20072594,  0.16621942],\n",
       "       [ 1.80355087, -1.05320692],\n",
       "       [ 0.27648283, -0.26928998],\n",
       "       [-1.15514346, -0.76286731],\n",
       "       [-0.48705119, -1.19837672],\n",
       "       [ 0.46736633,  1.24047596],\n",
       "       [-1.34602697, -0.41445979],\n",
       "       [-0.39160944,  1.32757784],\n",
       "       [ 2.08987613,  0.39849111],\n",
       "       [ 0.65824984, -1.08224088],\n",
       "       [ 0.08559932,  0.77593259],\n",
       "       [-0.6779347 ,  0.13718546],\n",
       "       [-0.00984243, -0.55962959],\n",
       "       [ 0.65824984,  1.79212121],\n",
       "       [ 0.75369159, -1.08224088],\n",
       "       [-0.10528418,  0.16621942],\n",
       "       [-0.96425996,  0.57269487],\n",
       "       [-1.34602697, -0.3273579 ],\n",
       "       [-1.72779398,  0.13718546],\n",
       "       [-1.15514346,  0.31138923],\n",
       "       [-0.58249295,  1.90825705],\n",
       "       [-0.29616769, -0.41445979],\n",
       "       [-0.77337645,  0.28235527],\n",
       "       [ 1.04001685,  0.54366091],\n",
       "       [ 2.08987613,  1.12434012],\n",
       "       [-0.39160944,  0.07911754],\n",
       "       [-0.20072594,  2.1695627 ],\n",
       "       [ 0.9445751 ,  1.44371368],\n",
       "       [-0.77337645,  0.51462695],\n",
       "       [-1.25058522, -1.37258048],\n",
       "       [-1.15514346,  0.48559299],\n",
       "       [ 0.46736633,  1.85018913],\n",
       "       [-0.10528418,  0.68883071]])"
      ]
     },
     "execution_count": 10,
     "metadata": {},
     "output_type": "execute_result"
    }
   ],
   "source": [
    "X_test"
   ]
  },
  {
   "cell_type": "markdown",
   "metadata": {},
   "source": [
    "## Training the Decision Tree Classification model on the Training set"
   ]
  },
  {
   "cell_type": "code",
   "execution_count": 11,
   "metadata": {},
   "outputs": [
    {
     "data": {
      "text/plain": [
       "DecisionTreeClassifier()"
      ]
     },
     "execution_count": 11,
     "metadata": {},
     "output_type": "execute_result"
    }
   ],
   "source": [
    "from sklearn.tree import DecisionTreeClassifier\n",
    "classifier = DecisionTreeClassifier()\n",
    "classifier.fit(X_train,y_train)"
   ]
  },
  {
   "cell_type": "markdown",
   "metadata": {},
   "source": [
    "## Predicting a new result"
   ]
  },
  {
   "cell_type": "code",
   "execution_count": 12,
   "metadata": {},
   "outputs": [
    {
     "data": {
      "text/plain": [
       "array([0])"
      ]
     },
     "execution_count": 12,
     "metadata": {},
     "output_type": "execute_result"
    }
   ],
   "source": [
    "classifier.predict(sc.transform([[30,87000]]))"
   ]
  },
  {
   "cell_type": "markdown",
   "metadata": {},
   "source": [
    "## Predicting the Test set results"
   ]
  },
  {
   "cell_type": "code",
   "execution_count": 13,
   "metadata": {},
   "outputs": [
    {
     "data": {
      "text/plain": [
       "(array([0, 0, 0, 0, 0, 0, 1, 0, 0, 1, 0, 0, 0, 0, 1, 0, 0, 1, 0, 0, 0, 0,\n",
       "        0, 1, 0, 0, 1, 1, 1, 0, 1, 0, 0, 0, 0, 0, 1, 0, 0, 1, 0, 1, 0, 0,\n",
       "        0, 0, 1, 0, 1, 0, 0, 0, 1, 0, 1, 0, 1, 1, 0, 0, 1, 1, 0, 0, 0, 0,\n",
       "        0, 1, 0, 0, 1, 1, 0, 1, 1, 0, 0, 0, 1, 1]),\n",
       " array([0, 0, 0, 0, 0, 0, 1, 1, 0, 1, 0, 0, 0, 1, 1, 0, 0, 1, 0, 0, 0, 0,\n",
       "        0, 1, 0, 0, 1, 1, 1, 0, 0, 1, 1, 0, 0, 0, 0, 0, 0, 1, 0, 1, 0, 0,\n",
       "        0, 0, 1, 0, 1, 0, 0, 0, 1, 0, 0, 1, 1, 1, 0, 0, 1, 1, 0, 0, 0, 0,\n",
       "        0, 1, 0, 0, 1, 1, 0, 1, 1, 0, 0, 0, 0, 1]))"
      ]
     },
     "execution_count": 13,
     "metadata": {},
     "output_type": "execute_result"
    }
   ],
   "source": [
    "y_pred = classifier.predict(X_test)\n",
    "y_test = y_test.iloc[:].values\n",
    "y_pred,y_test"
   ]
  },
  {
   "cell_type": "markdown",
   "metadata": {},
   "source": [
    "## Making the Confusion Matrix"
   ]
  },
  {
   "cell_type": "code",
   "execution_count": 14,
   "metadata": {},
   "outputs": [
    {
     "name": "stdout",
     "output_type": "stream",
     "text": [
      "[[48  4]\n",
      " [ 5 23]]\n"
     ]
    },
    {
     "data": {
      "text/plain": [
       "0.8875"
      ]
     },
     "execution_count": 14,
     "metadata": {},
     "output_type": "execute_result"
    }
   ],
   "source": [
    "from sklearn.metrics import confusion_matrix, accuracy_score\n",
    "conf_mat = confusion_matrix(y_test,y_pred)\n",
    "print(conf_mat)\n",
    "accuracy_score(y_test,y_pred)"
   ]
  },
  {
   "cell_type": "markdown",
   "metadata": {},
   "source": [
    "## Visualising the Training set results"
   ]
  },
  {
   "cell_type": "code",
   "execution_count": 15,
   "metadata": {},
   "outputs": [
    {
     "name": "stderr",
     "output_type": "stream",
     "text": [
      "*c* argument looks like a single numeric RGB or RGBA sequence, which should be avoided as value-mapping will have precedence in case its length matches with *x* & *y*.  Please use the *color* keyword-argument or provide a 2-D array with a single row if you intend to specify the same RGB or RGBA value for all points.\n",
      "*c* argument looks like a single numeric RGB or RGBA sequence, which should be avoided as value-mapping will have precedence in case its length matches with *x* & *y*.  Please use the *color* keyword-argument or provide a 2-D array with a single row if you intend to specify the same RGB or RGBA value for all points.\n"
     ]
    },
    {
     "data": {
      "image/png": "[encoded data removed]",
      "text/plain": [
       "<Figure size 432x288 with 1 Axes>"
      ]
     },
     "metadata": {
      "needs_background": "light"
     },
     "output_type": "display_data"
    }
   ],
   "source": [
    "from matplotlib.colors import ListedColormap\n",
    "X_set, y_set = sc.inverse_transform(X_train), y_train\n",
    "X1, X2 = np.meshgrid(np.arange(start = X_set[:, 0].min() - 10, stop = X_set[:, 0].max() + 10, step = 0.25),\n",
    "                     np.arange(start = X_set[:, 1].min() - 1000, stop = X_set[:, 1].max() + 1000, step = 0.25))\n",
    "plt.contourf(X1, X2, classifier.predict(sc.transform(np.array([X1.ravel(), X2.ravel()]).T)).reshape(X1.shape),\n",
    "             alpha = 0.75, cmap = ListedColormap(('red', 'green')))\n",
    "plt.xlim(X1.min(), X1.max())\n",
    "plt.ylim(X2.min(), X2.max())\n",
    "for i, j in enumerate(np.unique(y_set)):\n",
    "    plt.scatter(X_set[y_set == j, 0], X_set[y_set == j, 1], c = ListedColormap(('red', 'green'))(i), label = j)\n",
    "plt.title('Decision Tree Classification (Training set)')\n",
    "plt.xlabel('Age')\n",
    "plt.ylabel('Estimated Salary')\n",
    "plt.legend()\n",
    "plt.show()"
   ]
  },
  {
   "cell_type": "markdown",
   "metadata": {},
   "source": [
    "## Visualising the Test set results"
   ]
  },
  {
   "cell_type": "code",
   "execution_count": 16,
   "metadata": {},
   "outputs": [
    {
     "name": "stderr",
     "output_type": "stream",
     "text": [
      "*c* argument looks like a single numeric RGB or RGBA sequence, which should be avoided as value-mapping will have precedence in case its length matches with *x* & *y*.  Please use the *color* keyword-argument or provide a 2-D array with a single row if you intend to specify the same RGB or RGBA value for all points.\n",
      "*c* argument looks like a single numeric RGB or RGBA sequence, which should be avoided as value-mapping will have precedence in case its length matches with *x* & *y*.  Please use the *color* keyword-argument or provide a 2-D array with a single row if you intend to specify the same RGB or RGBA value for all points.\n"
     ]
    },
    {
     "data": {
      "image/png": "[encoded data removed]",
      "text/plain": [
       "<Figure size 432x288 with 1 Axes>"
      ]
     },
     "metadata": {
      "needs_background": "light"
     },
     "output_type": "display_data"
    }
   ],
   "source": [
    "from matplotlib.colors import ListedColormap\n",
    "X_set, y_set = sc.inverse_transform(X_test), y_test\n",
    "X1, X2 = np.meshgrid(np.arange(start = X_set[:, 0].min() - 10, stop = X_set[:, 0].max() + 10, step = 0.25),\n",
    "                     np.arange(start = X_set[:, 1].min() - 1000, stop = X_set[:, 1].max() + 1000, step = 0.25))\n",
    "plt.contourf(X1, X2, classifier.predict(sc.transform(np.array([X1.ravel(), X2.ravel()]).T)).reshape(X1.shape),\n",
    "             alpha = 0.75, cmap = ListedColormap(('red', 'green')))\n",
    "plt.xlim(X1.min(), X1.max())\n",
    "plt.ylim(X2.min(), X2.max())\n",
    "for i, j in enumerate(np.unique(y_set)):\n",
    "    plt.scatter(X_set[y_set == j, 0], X_set[y_set == j, 1], c = ListedColormap(('red', 'green'))(i), label = j)\n",
    "plt.title('Decision Tree Classification (Test set)')\n",
    "plt.xlabel('Age')\n",
    "plt.ylabel('Estimated Salary')\n",
    "plt.legend()\n",
    "plt.show()"
   ]
  }
 ],
 "metadata": {
  "kernelspec": {
   "display_name": "Python 3",
   "language": "python",
   "name": "python3"
  },
  "language_info": {
   "codemirror_mode": {
    "name": "ipython",
    "version": 3
   },
   "file_extension": ".py",
   "mimetype": "text/x-python",
   "name": "python",
   "nbconvert_exporter": "python",
   "pygments_lexer": "ipython3",
   "version": "3.8.3"
  }
 },
 "nbformat": 4,
 "nbformat_minor": 4
}
