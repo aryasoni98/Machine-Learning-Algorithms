{
 "cells": [
  {
   "cell_type": "markdown",
   "metadata": {},
   "source": [
    "# Support Vector Machine (SVM)\n",
    "\n",
    "The SVM classifier with linear kernel act as a liner classifier. While creating a decision boundary it creates margin on both sides of the decision boundary known as positive hyperplane(on right) negative hyperplane(on left). These margins are decided by the near points and the margins are equidistant from the decision boundary. Thse points are known as support vectors."
   ]
  },
  {
   "cell_type": "markdown",
   "metadata": {},
   "source": [
    "## Importing the libraries"
   ]
  },
  {
   "cell_type": "code",
   "execution_count": 1,
   "metadata": {},
   "outputs": [],
   "source": [
    "import pandas as pd\n",
    "import numpy as np\n",
    "import matplotlib.pyplot as plt"
   ]
  },
  {
   "cell_type": "markdown",
   "metadata": {},
   "source": [
    "## Importing the dataset"
   ]
  },
  {
   "cell_type": "code",
   "execution_count": 2,
   "metadata": {},
   "outputs": [],
   "source": [
    "dataset = pd.read_csv(\"Social_Network_Ads.csv\")\n",
    "X = dataset.drop('Purchased',axis = 1)\n",
    "y = dataset['Purchased']"
   ]
  },
  {
   "cell_type": "markdown",
   "metadata": {},
   "source": [
    "## Splitting the dataset into the Training set and Test set"
   ]
  },
  {
   "cell_type": "code",
   "execution_count": 3,
   "metadata": {},
   "outputs": [],
   "source": [
    "from sklearn.model_selection import train_test_split\n",
    "X_train, X_test, y_train, y_test = train_test_split(X,y, test_size = 0.2)"
   ]
  },
  {
   "cell_type": "code",
   "execution_count": 4,
   "metadata": {},
   "outputs": [
    {
     "data": {
      "text/html": [
       "<div>\n",
       "<style scoped>\n",
       "    .dataframe tbody tr th:only-of-type {\n",
       "        vertical-align: middle;\n",
       "    }\n",
       "\n",
       "    .dataframe tbody tr th {\n",
       "        vertical-align: top;\n",
       "    }\n",
       "\n",
       "    .dataframe thead th {\n",
       "        text-align: right;\n",
       "    }\n",
       "</style>\n",
       "<table border=\"1\" class=\"dataframe\">\n",
       "  <thead>\n",
       "    <tr style=\"text-align: right;\">\n",
       "      <th></th>\n",
       "      <th>Age</th>\n",
       "      <th>EstimatedSalary</th>\n",
       "    </tr>\n",
       "  </thead>\n",
       "  <tbody>\n",
       "    <tr>\n",
       "      <th>187</th>\n",
       "      <td>33</td>\n",
       "      <td>41000</td>\n",
       "    </tr>\n",
       "    <tr>\n",
       "      <th>281</th>\n",
       "      <td>35</td>\n",
       "      <td>61000</td>\n",
       "    </tr>\n",
       "    <tr>\n",
       "      <th>245</th>\n",
       "      <td>51</td>\n",
       "      <td>146000</td>\n",
       "    </tr>\n",
       "    <tr>\n",
       "      <th>119</th>\n",
       "      <td>41</td>\n",
       "      <td>59000</td>\n",
       "    </tr>\n",
       "    <tr>\n",
       "      <th>33</th>\n",
       "      <td>28</td>\n",
       "      <td>44000</td>\n",
       "    </tr>\n",
       "    <tr>\n",
       "      <th>...</th>\n",
       "      <td>...</td>\n",
       "      <td>...</td>\n",
       "    </tr>\n",
       "    <tr>\n",
       "      <th>289</th>\n",
       "      <td>37</td>\n",
       "      <td>78000</td>\n",
       "    </tr>\n",
       "    <tr>\n",
       "      <th>13</th>\n",
       "      <td>32</td>\n",
       "      <td>18000</td>\n",
       "    </tr>\n",
       "    <tr>\n",
       "      <th>147</th>\n",
       "      <td>41</td>\n",
       "      <td>30000</td>\n",
       "    </tr>\n",
       "    <tr>\n",
       "      <th>208</th>\n",
       "      <td>40</td>\n",
       "      <td>142000</td>\n",
       "    </tr>\n",
       "    <tr>\n",
       "      <th>378</th>\n",
       "      <td>41</td>\n",
       "      <td>87000</td>\n",
       "    </tr>\n",
       "  </tbody>\n",
       "</table>\n",
       "<p>320 rows × 2 columns</p>\n",
       "</div>"
      ],
      "text/plain": [
       "     Age  EstimatedSalary\n",
       "187   33            41000\n",
       "281   35            61000\n",
       "245   51           146000\n",
       "119   41            59000\n",
       "33    28            44000\n",
       "..   ...              ...\n",
       "289   37            78000\n",
       "13    32            18000\n",
       "147   41            30000\n",
       "208   40           142000\n",
       "378   41            87000\n",
       "\n",
       "[320 rows x 2 columns]"
      ]
     },
     "execution_count": 4,
     "metadata": {},
     "output_type": "execute_result"
    }
   ],
   "source": [
    "X_train"
   ]
  },
  {
   "cell_type": "code",
   "execution_count": 5,
   "metadata": {},
   "outputs": [
    {
     "data": {
      "text/plain": [
       "187    0\n",
       "281    0\n",
       "245    1\n",
       "119    0\n",
       "33     0\n",
       "      ..\n",
       "289    1\n",
       "13     0\n",
       "147    0\n",
       "208    1\n",
       "378    1\n",
       "Name: Purchased, Length: 320, dtype: int64"
      ]
     },
     "execution_count": 5,
     "metadata": {},
     "output_type": "execute_result"
    }
   ],
   "source": [
    "y_train"
   ]
  },
  {
   "cell_type": "code",
   "execution_count": 6,
   "metadata": {},
   "outputs": [
    {
     "data": {
      "text/html": [
       "<div>\n",
       "<style scoped>\n",
       "    .dataframe tbody tr th:only-of-type {\n",
       "        vertical-align: middle;\n",
       "    }\n",
       "\n",
       "    .dataframe tbody tr th {\n",
       "        vertical-align: top;\n",
       "    }\n",
       "\n",
       "    .dataframe thead th {\n",
       "        text-align: right;\n",
       "    }\n",
       "</style>\n",
       "<table border=\"1\" class=\"dataframe\">\n",
       "  <thead>\n",
       "    <tr style=\"text-align: right;\">\n",
       "      <th></th>\n",
       "      <th>Age</th>\n",
       "      <th>EstimatedSalary</th>\n",
       "    </tr>\n",
       "  </thead>\n",
       "  <tbody>\n",
       "    <tr>\n",
       "      <th>34</th>\n",
       "      <td>27</td>\n",
       "      <td>90000</td>\n",
       "    </tr>\n",
       "    <tr>\n",
       "      <th>193</th>\n",
       "      <td>19</td>\n",
       "      <td>70000</td>\n",
       "    </tr>\n",
       "    <tr>\n",
       "      <th>35</th>\n",
       "      <td>35</td>\n",
       "      <td>27000</td>\n",
       "    </tr>\n",
       "    <tr>\n",
       "      <th>223</th>\n",
       "      <td>60</td>\n",
       "      <td>102000</td>\n",
       "    </tr>\n",
       "    <tr>\n",
       "      <th>342</th>\n",
       "      <td>38</td>\n",
       "      <td>65000</td>\n",
       "    </tr>\n",
       "    <tr>\n",
       "      <th>...</th>\n",
       "      <td>...</td>\n",
       "      <td>...</td>\n",
       "    </tr>\n",
       "    <tr>\n",
       "      <th>61</th>\n",
       "      <td>25</td>\n",
       "      <td>87000</td>\n",
       "    </tr>\n",
       "    <tr>\n",
       "      <th>345</th>\n",
       "      <td>41</td>\n",
       "      <td>63000</td>\n",
       "    </tr>\n",
       "    <tr>\n",
       "      <th>271</th>\n",
       "      <td>59</td>\n",
       "      <td>76000</td>\n",
       "    </tr>\n",
       "    <tr>\n",
       "      <th>250</th>\n",
       "      <td>44</td>\n",
       "      <td>39000</td>\n",
       "    </tr>\n",
       "    <tr>\n",
       "      <th>39</th>\n",
       "      <td>27</td>\n",
       "      <td>31000</td>\n",
       "    </tr>\n",
       "  </tbody>\n",
       "</table>\n",
       "<p>80 rows × 2 columns</p>\n",
       "</div>"
      ],
      "text/plain": [
       "     Age  EstimatedSalary\n",
       "34    27            90000\n",
       "193   19            70000\n",
       "35    35            27000\n",
       "223   60           102000\n",
       "342   38            65000\n",
       "..   ...              ...\n",
       "61    25            87000\n",
       "345   41            63000\n",
       "271   59            76000\n",
       "250   44            39000\n",
       "39    27            31000\n",
       "\n",
       "[80 rows x 2 columns]"
      ]
     },
     "execution_count": 6,
     "metadata": {},
     "output_type": "execute_result"
    }
   ],
   "source": [
    "X_test"
   ]
  },
  {
   "cell_type": "code",
   "execution_count": 7,
   "metadata": {},
   "outputs": [
    {
     "data": {
      "text/plain": [
       "34     0\n",
       "193    0\n",
       "35     0\n",
       "223    1\n",
       "342    0\n",
       "      ..\n",
       "61     0\n",
       "345    0\n",
       "271    1\n",
       "250    0\n",
       "39     0\n",
       "Name: Purchased, Length: 80, dtype: int64"
      ]
     },
     "execution_count": 7,
     "metadata": {},
     "output_type": "execute_result"
    }
   ],
   "source": [
    "y_test"
   ]
  },
  {
   "cell_type": "markdown",
   "metadata": {},
   "source": [
    "## Feature Scaling"
   ]
  },
  {
   "cell_type": "code",
   "execution_count": 8,
   "metadata": {},
   "outputs": [],
   "source": [
    "from sklearn.preprocessing import StandardScaler\n",
    "sc = StandardScaler()\n",
    "X_train = sc.fit_transform(X_train)\n",
    "X_test = sc.transform(X_test)"
   ]
  },
  {
   "cell_type": "code",
   "execution_count": 9,
   "metadata": {},
   "outputs": [
    {
     "data": {
      "text/plain": [
       "array([[-0.44878329, -0.83787038],\n",
       "       [-0.25730242, -0.246715  ],\n",
       "       [ 1.27454455,  2.26569535],\n",
       "       [ 0.31714019, -0.30583054],\n",
       "       [-0.92748547, -0.74919707],\n",
       "       [-0.06582155,  0.31488261],\n",
       "       [-0.54452373,  1.40852006],\n",
       "       [ 0.31714019,  0.28532484],\n",
       "       [-0.44878329, -1.13344807],\n",
       "       [ 0.22139976, -0.27627277],\n",
       "       [-0.44878329, -1.22212138],\n",
       "       [-1.50192809, -1.25167914],\n",
       "       [ 1.17880411, -1.45858353],\n",
       "       [-0.25730242, -0.48317715],\n",
       "       [ 0.02991889,  0.04886269],\n",
       "       [-1.11896634, -0.77875484],\n",
       "       [ 0.79584237,  0.78780691],\n",
       "       [-0.64026416,  1.43807782],\n",
       "       [ 0.41288063,  0.10797822],\n",
       "       [-0.92748547,  0.58090253],\n",
       "       [ 0.12565932,  0.78780691],\n",
       "       [ 0.02991889,  1.29028898],\n",
       "       [-1.59766852,  0.55134476],\n",
       "       [ 0.12565932,  0.04886269],\n",
       "       [-1.31044721,  0.43311368],\n",
       "       [ 0.31714019,  0.07842046],\n",
       "       [ 0.98732324,  2.0292332 ],\n",
       "       [ 0.79584237, -1.22212138],\n",
       "       [-0.7360046 ,  0.31488261],\n",
       "       [-1.11896634, -1.1038903 ],\n",
       "       [ 0.41288063,  1.02426906],\n",
       "       [ 0.70010194, -1.1038903 ],\n",
       "       [-0.16156199, -0.27627277],\n",
       "       [ 0.41288063,  1.14250014],\n",
       "       [-0.83174504,  0.31488261],\n",
       "       [-0.06582155, -0.51273492],\n",
       "       [-1.78914939,  0.19665153],\n",
       "       [ 1.56176586,  0.01930492],\n",
       "       [-1.11896634, -1.5768146 ],\n",
       "       [ 0.02991889, -0.54229269],\n",
       "       [-1.02322591,  1.99967543],\n",
       "       [ 2.04046804, -1.19256361],\n",
       "       [ 1.37028499,  2.38392643],\n",
       "       [ 0.98732324, -1.19256361],\n",
       "       [-1.50192809, -0.42406162],\n",
       "       [-1.31044721, -1.25167914],\n",
       "       [ 1.17880411, -0.98565922],\n",
       "       [-0.06582155, -0.21715723],\n",
       "       [ 0.22139976,  0.07842046],\n",
       "       [ 2.13620847, -0.80831261],\n",
       "       [-1.40618765, -1.45858353],\n",
       "       [ 1.17880411,  0.55134476],\n",
       "       [-0.83174504,  2.32481089],\n",
       "       [ 1.75324673,  1.88144436],\n",
       "       [ 0.98732324,  0.13753599],\n",
       "       [ 1.37028499, -1.42902576],\n",
       "       [-0.64026416,  0.19665153],\n",
       "       [-0.92748547,  1.58586667],\n",
       "       [-0.44878329, -0.01025285],\n",
       "       [-0.35304286, -0.77875484],\n",
       "       [ 0.22139976, -0.36494608],\n",
       "       [ 1.08306368,  0.49222922],\n",
       "       [ 1.46602542,  0.07842046],\n",
       "       [ 2.13620847, -0.80831261],\n",
       "       [ 0.12565932, -0.80831261],\n",
       "       [ 1.08306368, -0.12848393],\n",
       "       [ 1.46602542,  1.02426906],\n",
       "       [ 0.22139976,  1.11294237],\n",
       "       [ 0.12565932,  1.5563089 ],\n",
       "       [ 0.02991889, -0.57185046],\n",
       "       [-0.16156199, -0.18759946],\n",
       "       [-0.25730242, -1.39946799],\n",
       "       [-0.06582155, -0.48317715],\n",
       "       [-0.16156199,  1.64498221],\n",
       "       [-0.25730242,  0.2262093 ],\n",
       "       [-0.35304286,  0.07842046],\n",
       "       [-1.02322591, -0.33538831],\n",
       "       [ 0.31714019,  0.04886269],\n",
       "       [-0.92748547, -0.42406162],\n",
       "       [-0.92748547, -0.95610146],\n",
       "       [-0.92748547, -0.30583054],\n",
       "       [-1.40618765, -0.09892616],\n",
       "       [ 1.9447276 ,  0.75824914],\n",
       "       [ 0.41288063, -0.45361938],\n",
       "       [ 0.41288063, -0.45361938],\n",
       "       [-0.25730242,  0.55134476],\n",
       "       [ 0.98732324, -1.01521699],\n",
       "       [ 0.12565932,  0.2262093 ],\n",
       "       [-0.64026416, -0.03981062],\n",
       "       [-0.06582155,  0.31488261],\n",
       "       [-0.25730242,  0.07842046],\n",
       "       [ 1.75324673, -0.27627277],\n",
       "       [-0.7360046 , -1.60637237],\n",
       "       [-0.06582155,  1.99967543],\n",
       "       [-0.25730242,  0.28532484],\n",
       "       [ 0.70010194, -1.39946799],\n",
       "       [-1.02322591, -1.54725683],\n",
       "       [ 0.02991889,  0.04886269],\n",
       "       [ 1.65750629,  1.79277105],\n",
       "       [ 1.46602542,  2.17702205],\n",
       "       [ 1.08306368,  0.58090253],\n",
       "       [ 0.12565932,  1.91100213],\n",
       "       [-1.69340896,  0.13753599],\n",
       "       [-0.7360046 , -0.60140823],\n",
       "       [-0.25730242, -0.74919707],\n",
       "       [ 0.98732324, -0.83787038],\n",
       "       [ 0.31714019, -0.51273492],\n",
       "       [-0.16156199,  1.43807782],\n",
       "       [ 0.79584237, -0.83787038],\n",
       "       [-1.50192809, -0.18759946],\n",
       "       [ 0.50862106,  1.76321328],\n",
       "       [ 0.89158281, -0.54229269],\n",
       "       [-1.02322591, -1.45858353],\n",
       "       [ 0.6043615 ,  2.05879097],\n",
       "       [ 0.98732324, -1.16300584],\n",
       "       [-0.92748547,  0.28532484],\n",
       "       [-0.54452373,  0.90603798],\n",
       "       [ 0.41288063,  2.35436866],\n",
       "       [ 0.22139976, -0.36494608],\n",
       "       [ 2.04046804,  1.79277105],\n",
       "       [ 1.37028499,  2.0292332 ],\n",
       "       [-1.11896634,  0.31488261],\n",
       "       [-1.40618765, -0.630966  ],\n",
       "       [ 0.89158281, -1.16300584],\n",
       "       [ 0.89158281,  1.29028898],\n",
       "       [ 0.41288063,  0.31488261],\n",
       "       [-0.25730242,  0.81736468],\n",
       "       [ 0.79584237,  0.13753599],\n",
       "       [-0.83174504, -0.246715  ],\n",
       "       [ 0.22139976, -0.66052377],\n",
       "       [-1.02322591, -0.36494608],\n",
       "       [-0.25730242, -0.42406162],\n",
       "       [-0.7360046 ,  1.94055989],\n",
       "       [ 0.02991889,  0.31488261],\n",
       "       [-0.06582155,  2.20657981],\n",
       "       [-1.40618765, -1.22212138],\n",
       "       [-0.54452373,  0.49222922],\n",
       "       [ 0.41288063,  0.28532484],\n",
       "       [-1.31044721, -1.36991022],\n",
       "       [-1.11896634,  0.43311368],\n",
       "       [ 1.08306368,  0.55134476],\n",
       "       [-1.21470678,  0.31488261],\n",
       "       [ 1.9447276 , -0.66052377],\n",
       "       [ 0.79584237,  0.37399814],\n",
       "       [ 0.31714019,  0.07842046],\n",
       "       [-0.25730242, -0.92654369],\n",
       "       [-1.69340896,  0.37399814],\n",
       "       [-0.92748547, -0.30583054],\n",
       "       [-0.25730242,  2.29525312],\n",
       "       [-1.88488983, -0.51273492],\n",
       "       [ 0.22139976, -0.12848393],\n",
       "       [-1.69340896, -0.60140823],\n",
       "       [-0.25730242, -0.27627277],\n",
       "       [-0.06582155, -0.42406162],\n",
       "       [-1.88488983, -0.03981062],\n",
       "       [-0.16156199, -0.57185046],\n",
       "       [-0.44878329,  1.29028898],\n",
       "       [-0.83174504,  0.40355591],\n",
       "       [ 1.56176586, -1.28123691],\n",
       "       [ 1.37028499,  0.6104603 ],\n",
       "       [ 0.12565932,  0.28532484],\n",
       "       [-0.54452373, -1.51769906],\n",
       "       [-1.02322591,  0.43311368],\n",
       "       [-0.54452373,  1.94055989],\n",
       "       [-0.54452373,  1.40852006],\n",
       "       [ 0.41288063,  0.01930492],\n",
       "       [-1.78914939, -1.31079468],\n",
       "       [ 1.27454455,  1.91100213],\n",
       "       [-1.21470678,  0.28532484],\n",
       "       [ 0.31714019,  0.07842046],\n",
       "       [ 0.31714019, -0.51273492],\n",
       "       [ 1.84898716, -0.27627277],\n",
       "       [-0.25730242,  0.16709376],\n",
       "       [ 0.41288063, -0.1580417 ],\n",
       "       [-0.25730242, -1.36991022],\n",
       "       [-1.40618765,  0.37399814],\n",
       "       [ 1.84898716,  1.5563089 ],\n",
       "       [ 0.70010194, -1.39946799],\n",
       "       [-0.25730242,  0.04886269],\n",
       "       [ 0.02991889, -0.57185046],\n",
       "       [ 0.22139976, -0.246715  ],\n",
       "       [ 1.08306368, -0.89698592],\n",
       "       [ 0.12565932,  1.91100213],\n",
       "       [ 0.98732324,  2.11790651],\n",
       "       [-0.25730242, -0.66052377],\n",
       "       [ 0.79584237,  0.55134476],\n",
       "       [-0.7360046 , -1.54725683],\n",
       "       [-1.69340896,  0.37399814],\n",
       "       [ 0.89158281, -0.77875484],\n",
       "       [-1.40618765, -0.18759946],\n",
       "       [ 0.31714019, -0.7196393 ],\n",
       "       [ 0.22139976,  0.04886269],\n",
       "       [-0.54452373,  1.49719336],\n",
       "       [-0.44878329, -0.77875484],\n",
       "       [ 0.12565932,  0.10797822],\n",
       "       [-1.59766852, -1.5768146 ],\n",
       "       [ 0.89158281, -0.60140823],\n",
       "       [-1.50192809, -1.51769906],\n",
       "       [ 0.70010194,  1.82232882],\n",
       "       [ 1.08306368, -0.98565922],\n",
       "       [-0.25730242,  0.16709376],\n",
       "       [-0.44878329, -0.54229269],\n",
       "       [-0.06582155,  0.16709376],\n",
       "       [ 2.13620847,  0.40355591],\n",
       "       [ 0.41288063,  0.6104603 ],\n",
       "       [ 0.89158281,  2.20657981],\n",
       "       [ 1.84898716, -1.28123691],\n",
       "       [-1.59766852, -0.03981062],\n",
       "       [-0.64026416, -1.51769906],\n",
       "       [ 2.13620847, -1.04477476],\n",
       "       [-0.64026416, -0.33538831],\n",
       "       [ 0.31714019, -0.27627277],\n",
       "       [ 0.12565932, -0.246715  ],\n",
       "       [-0.92748547,  0.43311368],\n",
       "       [-0.44878329, -0.27627277],\n",
       "       [-1.31044721, -0.42406162],\n",
       "       [ 1.08306368,  0.13753599],\n",
       "       [-1.31044721, -0.42406162],\n",
       "       [-1.21470678, -1.07433253],\n",
       "       [-1.88488983, -0.74919707],\n",
       "       [-1.78914939,  0.46267145],\n",
       "       [-1.02322591,  0.78780691],\n",
       "       [-0.35304286,  1.26073121],\n",
       "       [ 0.89158281, -1.31079468],\n",
       "       [ 0.98732324, -1.07433253],\n",
       "       [-0.92748547,  0.46267145],\n",
       "       [ 2.04046804,  0.55134476],\n",
       "       [ 0.31714019,  0.31488261],\n",
       "       [ 0.70010194, -1.28123691],\n",
       "       [-0.16156199,  2.20657981],\n",
       "       [-0.83174504, -1.22212138],\n",
       "       [-0.7360046 ,  0.28532484],\n",
       "       [-1.21470678, -1.39946799],\n",
       "       [ 1.46602542,  0.37399814],\n",
       "       [ 0.70010194,  0.28532484],\n",
       "       [ 0.12565932,  0.16709376],\n",
       "       [-1.88488983,  0.37399814],\n",
       "       [-0.16156199, -0.51273492],\n",
       "       [-0.06582155,  0.01930492],\n",
       "       [-1.11896634, -1.60637237],\n",
       "       [-1.50192809,  0.34444038],\n",
       "       [ 1.9447276 , -0.92654369],\n",
       "       [-0.16156199, -0.45361938],\n",
       "       [-0.35304286,  1.34940452],\n",
       "       [-0.25730242,  0.10797822],\n",
       "       [ 0.89158281, -0.66052377],\n",
       "       [ 1.27454455, -1.36991022],\n",
       "       [ 0.31714019, -0.54229269],\n",
       "       [ 0.02991889, -0.42406162],\n",
       "       [ 0.79584237,  0.28532484],\n",
       "       [-0.06582155,  0.07842046],\n",
       "       [-1.31044721, -1.4881413 ],\n",
       "       [-1.78914939, -1.4881413 ],\n",
       "       [-0.25730242,  1.14250014],\n",
       "       [-1.02322591, -0.45361938],\n",
       "       [-1.11896634, -1.54725683],\n",
       "       [ 1.65750629, -0.89698592],\n",
       "       [ 1.56176586,  1.02426906],\n",
       "       [-0.25730242, -0.57185046],\n",
       "       [ 2.04046804,  0.40355591],\n",
       "       [ 1.84898716,  0.13753599],\n",
       "       [-0.7360046 ,  1.11294237],\n",
       "       [-0.16156199,  0.16709376],\n",
       "       [-0.83174504, -0.77875484],\n",
       "       [ 1.9447276 ,  2.20657981],\n",
       "       [ 0.89158281,  1.05382683],\n",
       "       [ 1.56176586,  1.14250014],\n",
       "       [-0.25730242, -0.12848393],\n",
       "       [ 0.12565932,  0.04886269],\n",
       "       [ 0.31714019,  0.07842046],\n",
       "       [-1.11896634,  0.07842046],\n",
       "       [ 0.22139976,  0.16709376],\n",
       "       [-1.11896634,  0.31488261],\n",
       "       [ 1.17880411, -0.74919707],\n",
       "       [-1.11896634, -1.01521699],\n",
       "       [-0.25730242, -0.89698592],\n",
       "       [ 0.02991889,  1.26073121],\n",
       "       [ 0.98732324,  1.91100213],\n",
       "       [-1.69340896, -0.98565922],\n",
       "       [ 0.41288063,  0.31488261],\n",
       "       [-1.21470678,  0.6104603 ],\n",
       "       [ 0.98732324,  0.6104603 ],\n",
       "       [-0.92748547,  0.52178699],\n",
       "       [ 0.98732324,  0.78780691],\n",
       "       [ 0.12565932, -0.80831261],\n",
       "       [-0.16156199, -1.07433253],\n",
       "       [ 0.41288063, -0.12848393],\n",
       "       [-0.06582155,  0.2262093 ],\n",
       "       [ 0.89158281, -1.04477476],\n",
       "       [ 0.22139976, -0.30583054],\n",
       "       [-1.02322591,  0.55134476],\n",
       "       [ 1.9447276 , -1.36991022],\n",
       "       [ 0.79584237, -0.30583054],\n",
       "       [-1.69340896, -1.36991022],\n",
       "       [-1.11896634, -1.60637237],\n",
       "       [-0.92748547, -1.1038903 ],\n",
       "       [ 0.79584237, -1.39946799],\n",
       "       [ 1.08306368, -1.22212138],\n",
       "       [-1.11896634,  0.34444038],\n",
       "       [ 1.65750629,  1.64498221],\n",
       "       [-1.31044721, -1.1038903 ],\n",
       "       [-0.25730242,  0.07842046],\n",
       "       [ 0.70010194, -0.7196393 ],\n",
       "       [-0.83174504,  0.16709376],\n",
       "       [-1.02322591,  0.58090253],\n",
       "       [ 0.89158281, -1.36991022],\n",
       "       [-0.16156199,  0.87648022],\n",
       "       [-0.16156199,  1.67453997],\n",
       "       [ 0.41288063, -0.48317715],\n",
       "       [ 1.9447276 ,  0.93559575],\n",
       "       [-1.78914939, -1.42902576],\n",
       "       [-0.06582155,  0.04886269],\n",
       "       [-0.06582155,  0.6991336 ],\n",
       "       [ 2.04046804, -0.80831261],\n",
       "       [ 0.02991889, -0.30583054],\n",
       "       [-0.06582155,  0.25576707],\n",
       "       [-0.54452373, -1.51769906],\n",
       "       [ 0.31714019, -1.16300584],\n",
       "       [ 0.22139976,  2.14746428],\n",
       "       [ 0.31714019,  0.52178699]])"
      ]
     },
     "execution_count": 9,
     "metadata": {},
     "output_type": "execute_result"
    }
   ],
   "source": [
    "X_train"
   ]
  },
  {
   "cell_type": "code",
   "execution_count": 10,
   "metadata": {},
   "outputs": [
    {
     "data": {
      "text/plain": [
       "array([[-1.02322591,  0.6104603 ],\n",
       "       [-1.78914939,  0.01930492],\n",
       "       [-0.25730242, -1.25167914],\n",
       "       [ 2.13620847,  0.96515352],\n",
       "       [ 0.02991889, -0.12848393],\n",
       "       [ 0.12565932,  1.0833846 ],\n",
       "       [-1.11896634, -0.51273492],\n",
       "       [-0.25730242,  0.64001806],\n",
       "       [-0.25730242, -0.36494608],\n",
       "       [ 0.98732324,  1.46763559],\n",
       "       [ 0.50862106,  1.88144436],\n",
       "       [-1.11896634,  0.49222922],\n",
       "       [-0.54452373,  2.38392643],\n",
       "       [-0.64026416, -1.04477476],\n",
       "       [-0.25730242, -0.57185046],\n",
       "       [ 0.41288063, -0.12848393],\n",
       "       [-1.31044721,  0.58090253],\n",
       "       [-0.83174504, -0.77875484],\n",
       "       [ 2.13620847, -0.69008154],\n",
       "       [ 1.08306368,  2.11790651],\n",
       "       [-0.25730242, -0.30583054],\n",
       "       [ 2.13620847,  1.14250014],\n",
       "       [-0.7360046 ,  1.37896229],\n",
       "       [-0.7360046 , -0.21715723],\n",
       "       [ 0.79584237,  1.40852006],\n",
       "       [-0.06582155,  2.26569535],\n",
       "       [ 1.46602542, -1.04477476],\n",
       "       [-0.64026416, -1.60637237],\n",
       "       [-0.06582155, -1.07433253],\n",
       "       [-0.44878329,  2.35436866],\n",
       "       [-0.06582155,  0.28532484],\n",
       "       [ 0.89158281,  1.11294237],\n",
       "       [-1.31044721, -0.33538831],\n",
       "       [ 0.98732324, -1.07433253],\n",
       "       [-0.83174504,  0.40355591],\n",
       "       [-0.7360046 ,  0.52178699],\n",
       "       [ 2.04046804,  2.17702205],\n",
       "       [-0.25730242, -1.45858353],\n",
       "       [-0.25730242, -1.31079468],\n",
       "       [ 0.98732324,  1.82232882],\n",
       "       [ 0.22139976,  0.25576707],\n",
       "       [ 0.50862106,  1.26073121],\n",
       "       [-1.11896634, -1.16300584],\n",
       "       [ 1.75324673,  1.02426906],\n",
       "       [ 0.89158281, -0.57185046],\n",
       "       [-0.25730242, -0.33538831],\n",
       "       [ 0.22139976, -0.36494608],\n",
       "       [-0.35304286, -0.77875484],\n",
       "       [ 0.41288063,  0.16709376],\n",
       "       [ 0.79584237, -1.1038903 ],\n",
       "       [-1.59766852,  0.07842046],\n",
       "       [ 1.08306368, -1.22212138],\n",
       "       [-0.35304286, -1.31079468],\n",
       "       [-1.78914939, -1.28123691],\n",
       "       [ 1.37028499,  1.31984675],\n",
       "       [ 0.12565932, -0.30583054],\n",
       "       [ 0.02991889, -0.246715  ],\n",
       "       [-0.64026416, -0.09892616],\n",
       "       [-0.64026416,  0.58090253],\n",
       "       [-0.83174504, -0.66052377],\n",
       "       [-1.02322591, -0.33538831],\n",
       "       [ 0.79584237, -1.36991022],\n",
       "       [ 0.02991889, -0.246715  ],\n",
       "       [-0.06582155, -0.36494608],\n",
       "       [-0.64026416,  0.13753599],\n",
       "       [-1.69340896,  0.49222922],\n",
       "       [-1.88488983,  0.49222922],\n",
       "       [ 0.22139976,  0.16709376],\n",
       "       [-0.64026416,  0.04886269],\n",
       "       [ 0.89158281, -1.45858353],\n",
       "       [-0.06582155,  0.13753599],\n",
       "       [-0.7360046 ,  0.58090253],\n",
       "       [ 1.84898716, -1.07433253],\n",
       "       [ 1.37028499, -0.92654369],\n",
       "       [-1.11896634,  1.43807782],\n",
       "       [-1.21470678,  0.52178699],\n",
       "       [ 0.31714019, -0.18759946],\n",
       "       [ 2.04046804,  0.19665153],\n",
       "       [ 0.6043615 , -0.89698592],\n",
       "       [-1.02322591, -1.13344807]])"
      ]
     },
     "execution_count": 10,
     "metadata": {},
     "output_type": "execute_result"
    }
   ],
   "source": [
    "X_test"
   ]
  },
  {
   "cell_type": "markdown",
   "metadata": {},
   "source": [
    "## Training the SVM model on the Training set"
   ]
  },
  {
   "cell_type": "code",
   "execution_count": 12,
   "metadata": {},
   "outputs": [
    {
     "data": {
      "text/plain": [
       "SVC(kernel='linear')"
      ]
     },
     "execution_count": 12,
     "metadata": {},
     "output_type": "execute_result"
    }
   ],
   "source": [
    "from sklearn.svm import SVC\n",
    "classifier = SVC(kernel = 'linear')\n",
    "classifier.fit(X_train,y_train)"
   ]
  },
  {
   "cell_type": "markdown",
   "metadata": {},
   "source": [
    "## Predicting a new result"
   ]
  },
  {
   "cell_type": "code",
   "execution_count": 13,
   "metadata": {},
   "outputs": [
    {
     "data": {
      "text/plain": [
       "array([0])"
      ]
     },
     "execution_count": 13,
     "metadata": {},
     "output_type": "execute_result"
    }
   ],
   "source": [
    "classifier.predict(sc.transform([[30,87000]]))"
   ]
  },
  {
   "cell_type": "markdown",
   "metadata": {},
   "source": [
    "## Predicting the Test set results"
   ]
  },
  {
   "cell_type": "code",
   "execution_count": 14,
   "metadata": {},
   "outputs": [
    {
     "data": {
      "text/plain": [
       "(array([0, 0, 0, 1, 0, 1, 0, 0, 0, 1, 1, 0, 1, 0, 0, 0, 0, 0, 1, 1, 0, 1,\n",
       "        0, 0, 1, 1, 1, 0, 0, 1, 0, 1, 0, 0, 0, 0, 1, 0, 0, 1, 0, 1, 0, 1,\n",
       "        1, 0, 0, 0, 0, 0, 0, 0, 0, 0, 1, 0, 0, 0, 0, 0, 0, 0, 0, 0, 0, 0,\n",
       "        0, 0, 0, 0, 0, 0, 1, 1, 0, 0, 0, 1, 0, 0]),\n",
       " array([0, 0, 0, 1, 0, 1, 0, 1, 0, 1, 0, 0, 1, 0, 0, 0, 0, 0, 1, 1, 0, 1,\n",
       "        0, 0, 1, 1, 1, 0, 0, 1, 1, 1, 0, 1, 0, 0, 1, 0, 0, 1, 0, 1, 0, 1,\n",
       "        1, 0, 0, 0, 0, 1, 0, 1, 0, 0, 0, 0, 0, 0, 0, 0, 0, 1, 0, 0, 0, 0,\n",
       "        0, 0, 0, 1, 0, 0, 1, 1, 0, 0, 0, 1, 0, 0]))"
      ]
     },
     "execution_count": 14,
     "metadata": {},
     "output_type": "execute_result"
    }
   ],
   "source": [
    "y_pred = classifier.predict(X_test)\n",
    "y_test = y_test.iloc[:].values\n",
    "y_pred,y_test"
   ]
  },
  {
   "cell_type": "markdown",
   "metadata": {},
   "source": [
    "## Making the Confusion Matrix"
   ]
  },
  {
   "cell_type": "code",
   "execution_count": 15,
   "metadata": {},
   "outputs": [
    {
     "name": "stdout",
     "output_type": "stream",
     "text": [
      "[[51  2]\n",
      " [ 7 20]]\n"
     ]
    },
    {
     "data": {
      "text/plain": [
       "0.8875"
      ]
     },
     "execution_count": 15,
     "metadata": {},
     "output_type": "execute_result"
    }
   ],
   "source": [
    "from sklearn.metrics import confusion_matrix, accuracy_score\n",
    "conf_mat = confusion_matrix(y_test,y_pred)\n",
    "print(conf_mat)\n",
    "accuracy_score(y_test, y_pred)"
   ]
  },
  {
   "cell_type": "markdown",
   "metadata": {},
   "source": [
    "## Visualizing the Training set results"
   ]
  },
  {
   "cell_type": "code",
   "execution_count": 16,
   "metadata": {},
   "outputs": [
    {
     "name": "stderr",
     "output_type": "stream",
     "text": [
      "*c* argument looks like a single numeric RGB or RGBA sequence, which should be avoided as value-mapping will have precedence in case its length matches with *x* & *y*.  Please use the *color* keyword-argument or provide a 2-D array with a single row if you intend to specify the same RGB or RGBA value for all points.\n",
      "*c* argument looks like a single numeric RGB or RGBA sequence, which should be avoided as value-mapping will have precedence in case its length matches with *x* & *y*.  Please use the *color* keyword-argument or provide a 2-D array with a single row if you intend to specify the same RGB or RGBA value for all points.\n"
     ]
    },
    {
     "data": {
      "image/png": "[encoded data removed]",
      "text/plain": [
       "<Figure size 432x288 with 1 Axes>"
      ]
     },
     "metadata": {
      "needs_background": "light"
     },
     "output_type": "display_data"
    }
   ],
   "source": [
    "from matplotlib.colors import ListedColormap\n",
    "X_set, y_set = sc.inverse_transform(X_train), y_train\n",
    "X1, X2 = np.meshgrid(np.arange(start = X_set[:, 0].min() - 10, stop = X_set[:, 0].max() + 10, step = 0.25),\n",
    "                     np.arange(start = X_set[:, 1].min() - 1000, stop = X_set[:, 1].max() + 1000, step = 0.25))\n",
    "plt.contourf(X1, X2, classifier.predict(sc.transform(np.array([X1.ravel(), X2.ravel()]).T)).reshape(X1.shape),\n",
    "             alpha = 0.75, cmap = ListedColormap(('red', 'green')))\n",
    "plt.xlim(X1.min(), X1.max())\n",
    "plt.ylim(X2.min(), X2.max())\n",
    "for i, j in enumerate(np.unique(y_set)):\n",
    "    plt.scatter(X_set[y_set == j, 0], X_set[y_set == j, 1], c = ListedColormap(('red', 'green'))(i), label = j)\n",
    "plt.title('SVM (Training set)')\n",
    "plt.xlabel('Age')\n",
    "plt.ylabel('Estimated Salary')\n",
    "plt.legend()\n",
    "plt.show()"
   ]
  },
  {
   "cell_type": "markdown",
   "metadata": {},
   "source": [
    "## Visualizing the Test set results"
   ]
  },
  {
   "cell_type": "code",
   "execution_count": 17,
   "metadata": {},
   "outputs": [
    {
     "name": "stderr",
     "output_type": "stream",
     "text": [
      "*c* argument looks like a single numeric RGB or RGBA sequence, which should be avoided as value-mapping will have precedence in case its length matches with *x* & *y*.  Please use the *color* keyword-argument or provide a 2-D array with a single row if you intend to specify the same RGB or RGBA value for all points.\n",
      "*c* argument looks like a single numeric RGB or RGBA sequence, which should be avoided as value-mapping will have precedence in case its length matches with *x* & *y*.  Please use the *color* keyword-argument or provide a 2-D array with a single row if you intend to specify the same RGB or RGBA value for all points.\n"
     ]
    },
    {
     "data": {
      "image/png": "[encoded data removed]",
      "text/plain": [
       "<Figure size 432x288 with 1 Axes>"
      ]
     },
     "metadata": {
      "needs_background": "light"
     },
     "output_type": "display_data"
    }
   ],
   "source": [
    "from matplotlib.colors import ListedColormap\n",
    "X_set, y_set = sc.inverse_transform(X_test), y_test\n",
    "X1, X2 = np.meshgrid(np.arange(start = X_set[:, 0].min() - 10, stop = X_set[:, 0].max() + 10, step = 0.25),\n",
    "                     np.arange(start = X_set[:, 1].min() - 1000, stop = X_set[:, 1].max() + 1000, step = 0.25))\n",
    "plt.contourf(X1, X2, classifier.predict(sc.transform(np.array([X1.ravel(), X2.ravel()]).T)).reshape(X1.shape),\n",
    "             alpha = 0.75, cmap = ListedColormap(('red', 'green')))\n",
    "plt.xlim(X1.min(), X1.max())\n",
    "plt.ylim(X2.min(), X2.max())\n",
    "for i, j in enumerate(np.unique(y_set)):\n",
    "    plt.scatter(X_set[y_set == j, 0], X_set[y_set == j, 1], c = ListedColormap(('red', 'green'))(i), label = j)\n",
    "plt.title('SVM (Test set)')\n",
    "plt.xlabel('Age')\n",
    "plt.ylabel('Estimated Salary')\n",
    "plt.legend()\n",
    "plt.show()"
   ]
  }
 ],
 "metadata": {
  "kernelspec": {
   "display_name": "Python 3",
   "language": "python",
   "name": "python3"
  },
  "language_info": {
   "codemirror_mode": {
    "name": "ipython",
    "version": 3
   },
   "file_extension": ".py",
   "mimetype": "text/x-python",
   "name": "python",
   "nbconvert_exporter": "python",
   "pygments_lexer": "ipython3",
   "version": "3.8.3"
  }
 },
 "nbformat": 4,
 "nbformat_minor": 4
}
