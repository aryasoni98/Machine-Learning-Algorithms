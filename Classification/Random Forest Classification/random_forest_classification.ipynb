{
 "cells": [
  {
   "cell_type": "markdown",
   "metadata": {},
   "source": [
    "# Random Forest Classification\n",
    "\n",
    "This algorithm uses N number of decision trees where N is the n_estimatator hyperparameter which we can modify according to our dataset. This is known as ensemble learning. Th algorithm predict the output with majority votes."
   ]
  },
  {
   "cell_type": "markdown",
   "metadata": {},
   "source": [
    "## Importing the libraries "
   ]
  },
  {
   "cell_type": "code",
   "execution_count": 1,
   "metadata": {},
   "outputs": [],
   "source": [
    "import pandas as pd \n",
    "import numpy as np\n",
    "import matplotlib.pyplot as plt"
   ]
  },
  {
   "cell_type": "markdown",
   "metadata": {},
   "source": [
    "## Importing the dataset"
   ]
  },
  {
   "cell_type": "code",
   "execution_count": 2,
   "metadata": {},
   "outputs": [],
   "source": [
    "dataset = pd.read_csv('Social_Network_Ads.csv')\n",
    "X = dataset.drop('Purchased',axis = 1)\n",
    "y = dataset['Purchased']"
   ]
  },
  {
   "cell_type": "markdown",
   "metadata": {},
   "source": [
    "## Splitting the dataset into Training set and Test set"
   ]
  },
  {
   "cell_type": "code",
   "execution_count": 3,
   "metadata": {},
   "outputs": [],
   "source": [
    "from sklearn.model_selection import train_test_split\n",
    "X_train, X_test, y_train, y_test = train_test_split(X,y,test_size=0.2)"
   ]
  },
  {
   "cell_type": "code",
   "execution_count": 4,
   "metadata": {},
   "outputs": [
    {
     "data": {
      "text/html": [
       "<div>\n",
       "<style scoped>\n",
       "    .dataframe tbody tr th:only-of-type {\n",
       "        vertical-align: middle;\n",
       "    }\n",
       "\n",
       "    .dataframe tbody tr th {\n",
       "        vertical-align: top;\n",
       "    }\n",
       "\n",
       "    .dataframe thead th {\n",
       "        text-align: right;\n",
       "    }\n",
       "</style>\n",
       "<table border=\"1\" class=\"dataframe\">\n",
       "  <thead>\n",
       "    <tr style=\"text-align: right;\">\n",
       "      <th></th>\n",
       "      <th>Age</th>\n",
       "      <th>EstimatedSalary</th>\n",
       "    </tr>\n",
       "  </thead>\n",
       "  <tbody>\n",
       "    <tr>\n",
       "      <th>320</th>\n",
       "      <td>52</td>\n",
       "      <td>138000</td>\n",
       "    </tr>\n",
       "    <tr>\n",
       "      <th>81</th>\n",
       "      <td>39</td>\n",
       "      <td>42000</td>\n",
       "    </tr>\n",
       "    <tr>\n",
       "      <th>111</th>\n",
       "      <td>37</td>\n",
       "      <td>71000</td>\n",
       "    </tr>\n",
       "    <tr>\n",
       "      <th>344</th>\n",
       "      <td>47</td>\n",
       "      <td>105000</td>\n",
       "    </tr>\n",
       "    <tr>\n",
       "      <th>282</th>\n",
       "      <td>37</td>\n",
       "      <td>70000</td>\n",
       "    </tr>\n",
       "    <tr>\n",
       "      <th>...</th>\n",
       "      <td>...</td>\n",
       "      <td>...</td>\n",
       "    </tr>\n",
       "    <tr>\n",
       "      <th>80</th>\n",
       "      <td>30</td>\n",
       "      <td>80000</td>\n",
       "    </tr>\n",
       "    <tr>\n",
       "      <th>317</th>\n",
       "      <td>35</td>\n",
       "      <td>55000</td>\n",
       "    </tr>\n",
       "    <tr>\n",
       "      <th>168</th>\n",
       "      <td>29</td>\n",
       "      <td>148000</td>\n",
       "    </tr>\n",
       "    <tr>\n",
       "      <th>98</th>\n",
       "      <td>35</td>\n",
       "      <td>73000</td>\n",
       "    </tr>\n",
       "    <tr>\n",
       "      <th>330</th>\n",
       "      <td>38</td>\n",
       "      <td>51000</td>\n",
       "    </tr>\n",
       "  </tbody>\n",
       "</table>\n",
       "<p>320 rows × 2 columns</p>\n",
       "</div>"
      ],
      "text/plain": [
       "     Age  EstimatedSalary\n",
       "320   52           138000\n",
       "81    39            42000\n",
       "111   37            71000\n",
       "344   47           105000\n",
       "282   37            70000\n",
       "..   ...              ...\n",
       "80    30            80000\n",
       "317   35            55000\n",
       "168   29           148000\n",
       "98    35            73000\n",
       "330   38            51000\n",
       "\n",
       "[320 rows x 2 columns]"
      ]
     },
     "execution_count": 4,
     "metadata": {},
     "output_type": "execute_result"
    }
   ],
   "source": [
    "X_train"
   ]
  },
  {
   "cell_type": "code",
   "execution_count": 5,
   "metadata": {},
   "outputs": [
    {
     "data": {
      "text/plain": [
       "320    1\n",
       "81     0\n",
       "111    0\n",
       "344    1\n",
       "282    1\n",
       "      ..\n",
       "80     0\n",
       "317    0\n",
       "168    1\n",
       "98     0\n",
       "330    0\n",
       "Name: Purchased, Length: 320, dtype: int64"
      ]
     },
     "execution_count": 5,
     "metadata": {},
     "output_type": "execute_result"
    }
   ],
   "source": [
    "y_train"
   ]
  },
  {
   "cell_type": "code",
   "execution_count": 6,
   "metadata": {},
   "outputs": [
    {
     "data": {
      "text/html": [
       "<div>\n",
       "<style scoped>\n",
       "    .dataframe tbody tr th:only-of-type {\n",
       "        vertical-align: middle;\n",
       "    }\n",
       "\n",
       "    .dataframe tbody tr th {\n",
       "        vertical-align: top;\n",
       "    }\n",
       "\n",
       "    .dataframe thead th {\n",
       "        text-align: right;\n",
       "    }\n",
       "</style>\n",
       "<table border=\"1\" class=\"dataframe\">\n",
       "  <thead>\n",
       "    <tr style=\"text-align: right;\">\n",
       "      <th></th>\n",
       "      <th>Age</th>\n",
       "      <th>EstimatedSalary</th>\n",
       "    </tr>\n",
       "  </thead>\n",
       "  <tbody>\n",
       "    <tr>\n",
       "      <th>380</th>\n",
       "      <td>42</td>\n",
       "      <td>64000</td>\n",
       "    </tr>\n",
       "    <tr>\n",
       "      <th>253</th>\n",
       "      <td>37</td>\n",
       "      <td>146000</td>\n",
       "    </tr>\n",
       "    <tr>\n",
       "      <th>44</th>\n",
       "      <td>28</td>\n",
       "      <td>84000</td>\n",
       "    </tr>\n",
       "    <tr>\n",
       "      <th>61</th>\n",
       "      <td>25</td>\n",
       "      <td>87000</td>\n",
       "    </tr>\n",
       "    <tr>\n",
       "      <th>308</th>\n",
       "      <td>36</td>\n",
       "      <td>125000</td>\n",
       "    </tr>\n",
       "    <tr>\n",
       "      <th>...</th>\n",
       "      <td>...</td>\n",
       "      <td>...</td>\n",
       "    </tr>\n",
       "    <tr>\n",
       "      <th>182</th>\n",
       "      <td>32</td>\n",
       "      <td>117000</td>\n",
       "    </tr>\n",
       "    <tr>\n",
       "      <th>263</th>\n",
       "      <td>35</td>\n",
       "      <td>72000</td>\n",
       "    </tr>\n",
       "    <tr>\n",
       "      <th>207</th>\n",
       "      <td>52</td>\n",
       "      <td>114000</td>\n",
       "    </tr>\n",
       "    <tr>\n",
       "      <th>280</th>\n",
       "      <td>59</td>\n",
       "      <td>88000</td>\n",
       "    </tr>\n",
       "    <tr>\n",
       "      <th>116</th>\n",
       "      <td>35</td>\n",
       "      <td>75000</td>\n",
       "    </tr>\n",
       "  </tbody>\n",
       "</table>\n",
       "<p>80 rows × 2 columns</p>\n",
       "</div>"
      ],
      "text/plain": [
       "     Age  EstimatedSalary\n",
       "380   42            64000\n",
       "253   37           146000\n",
       "44    28            84000\n",
       "61    25            87000\n",
       "308   36           125000\n",
       "..   ...              ...\n",
       "182   32           117000\n",
       "263   35            72000\n",
       "207   52           114000\n",
       "280   59            88000\n",
       "116   35            75000\n",
       "\n",
       "[80 rows x 2 columns]"
      ]
     },
     "execution_count": 6,
     "metadata": {},
     "output_type": "execute_result"
    }
   ],
   "source": [
    "X_test"
   ]
  },
  {
   "cell_type": "code",
   "execution_count": 7,
   "metadata": {},
   "outputs": [
    {
     "data": {
      "text/plain": [
       "380    0\n",
       "253    1\n",
       "44     0\n",
       "61     0\n",
       "308    1\n",
       "      ..\n",
       "182    1\n",
       "263    0\n",
       "207    0\n",
       "280    1\n",
       "116    0\n",
       "Name: Purchased, Length: 80, dtype: int64"
      ]
     },
     "execution_count": 7,
     "metadata": {},
     "output_type": "execute_result"
    }
   ],
   "source": [
    "y_test"
   ]
  },
  {
   "cell_type": "markdown",
   "metadata": {},
   "source": [
    "## Feature Scaling "
   ]
  },
  {
   "cell_type": "code",
   "execution_count": 8,
   "metadata": {},
   "outputs": [],
   "source": [
    "from sklearn.preprocessing import StandardScaler\n",
    "sc = StandardScaler()\n",
    "X_train = sc.fit_transform(X_train)\n",
    "X_test = sc.transform(X_test)"
   ]
  },
  {
   "cell_type": "code",
   "execution_count": 9,
   "metadata": {},
   "outputs": [
    {
     "data": {
      "text/plain": [
       "array([[ 1.36587342,  2.13578242],\n",
       "       [ 0.13785669, -0.78976428],\n",
       "       [-0.05106897,  0.09399462],\n",
       "       [ 0.89355929,  1.13012574],\n",
       "       [-0.05106897,  0.06352017],\n",
       "       [ 0.23231951, -0.33264761],\n",
       "       [-0.23999462, -1.39925318],\n",
       "       [-0.99569723, -0.33264761],\n",
       "       [-0.99569723, -1.12498318],\n",
       "       [-1.65693701, -0.97261095],\n",
       "       [ 0.32678234,  0.36826462],\n",
       "       [ 2.12157603, -0.78976428],\n",
       "       [ 0.79909647,  0.33779017],\n",
       "       [ 1.55479908,  0.06352017],\n",
       "       [ 0.04339386, -0.54596873],\n",
       "       [-0.33445744,  0.12446906],\n",
       "       [-0.23999462, -0.63739206],\n",
       "       [ 0.32678234, -0.48501984],\n",
       "       [ 0.32678234, -0.24122428],\n",
       "       [-1.2790857 , -1.36877874],\n",
       "       [ 1.83818755,  0.18541795],\n",
       "       [ 1.36587342, -1.42972763],\n",
       "       [ 1.74372473,  1.0996513 ],\n",
       "       [-1.09016005, -0.75928984],\n",
       "       [-1.37354853, -1.21640651],\n",
       "       [-0.80677157,  0.45968795],\n",
       "       [-0.61784592, -1.03355984],\n",
       "       [-0.5233831 , -1.52115096],\n",
       "       [ 0.70463364, -1.2773554 ],\n",
       "       [-0.23999462,  2.41005242],\n",
       "       [ 1.17694777, -0.97261095],\n",
       "       [-1.09016005,  0.55111129],\n",
       "       [ 0.42124516,  0.67300907],\n",
       "       [-0.23999462, -0.27169872],\n",
       "       [-0.05106897,  0.27684128],\n",
       "       [ 0.79909647, -1.39925318],\n",
       "       [-0.61784592,  0.24636684],\n",
       "       [-1.46801135, -1.24688096],\n",
       "       [ 0.42124516, -0.42407095],\n",
       "       [-0.80677157,  0.2158924 ],\n",
       "       [-0.99569723,  0.64253462],\n",
       "       [ 1.93265038, -1.36877874],\n",
       "       [ 0.04339386,  0.36826462],\n",
       "       [ 1.17694777, -1.46020207],\n",
       "       [ 0.13785669,  0.2158924 ],\n",
       "       [ 1.36587342,  2.50147576],\n",
       "       [ 0.98802212,  0.67300907],\n",
       "       [-0.61784592, -1.52115096],\n",
       "       [-0.71230875, -1.6125743 ],\n",
       "       [-0.33445744,  1.34344685],\n",
       "       [-1.46801135, -0.14980094],\n",
       "       [-0.05106897,  0.18541795],\n",
       "       [-0.5233831 , -1.52115096],\n",
       "       [-0.99569723, -1.55162541],\n",
       "       [ 0.04339386, -0.54596873],\n",
       "       [-0.71230875,  0.58158573],\n",
       "       [ 0.23231951,  0.30731573],\n",
       "       [-1.75139983, -1.30782985],\n",
       "       [-1.2790857 ,  0.64253462],\n",
       "       [-1.09016005,  1.52629352],\n",
       "       [ 1.17694777,  0.61206018],\n",
       "       [-0.71230875,  0.64253462],\n",
       "       [ 0.51570799,  1.34344685],\n",
       "       [-0.23999462, -1.36877874],\n",
       "       [ 1.46033625,  2.28815464],\n",
       "       [-1.2790857 , -1.09450873],\n",
       "       [ 0.79909647,  0.18541795],\n",
       "       [-1.09016005, -1.09450873],\n",
       "       [ 0.98802212,  0.85585574],\n",
       "       [-0.5233831 ,  2.50147576],\n",
       "       [-1.46801135, -1.52115096],\n",
       "       [ 0.04339386,  0.09399462],\n",
       "       [-1.2790857 , -1.24688096],\n",
       "       [-0.99569723, -1.46020207],\n",
       "       [ 0.70463364, -1.39925318],\n",
       "       [ 0.23231951, -0.08885205],\n",
       "       [-1.56247418,  0.61206018],\n",
       "       [ 1.6492619 ,  1.89198686],\n",
       "       [ 1.2714106 ,  2.37957798],\n",
       "       [ 0.89355929, -0.63739206],\n",
       "       [-0.71230875, -0.18027539],\n",
       "       [-0.71230875,  1.19107463],\n",
       "       [-1.56247418, -1.58209985],\n",
       "       [ 0.13785669,  2.01388464],\n",
       "       [ 0.13785669,  2.01388464],\n",
       "       [ 0.13785669,  0.15494351],\n",
       "       [-0.23999462, -0.24122428],\n",
       "       [ 1.55479908,  1.22154908],\n",
       "       [ 1.83818755, -1.06403429],\n",
       "       [-1.75139983,  0.52063684],\n",
       "       [ 1.93265038,  1.00822796],\n",
       "       [ 0.42124516,  0.15494351],\n",
       "       [ 0.51570799,  1.86151242],\n",
       "       [-0.14553179, -0.14980094],\n",
       "       [-1.75139983, -1.42972763],\n",
       "       [-0.23999462,  0.09399462],\n",
       "       [-1.09016005, -1.6125743 ],\n",
       "       [-0.99569723, -0.30217317],\n",
       "       [ 0.13785669,  0.27684128],\n",
       "       [-0.5233831 ,  1.58724241],\n",
       "       [ 0.42124516, -0.08885205],\n",
       "       [-0.80677157,  0.36826462],\n",
       "       [-0.23999462, -0.72881539],\n",
       "       [-0.05106897, -0.18027539],\n",
       "       [-0.61784592,  0.09399462],\n",
       "       [ 1.74372473, -0.24122428],\n",
       "       [ 1.46033625,  0.12446906],\n",
       "       [-0.05106897,  2.31862909],\n",
       "       [ 2.12157603,  1.03870241],\n",
       "       [ 1.08248495, -0.08885205],\n",
       "       [-0.05106897, -1.06403429],\n",
       "       [ 0.89355929, -0.75928984],\n",
       "       [-0.23999462,  0.61206018],\n",
       "       [ 0.32678234, -1.15545762],\n",
       "       [-0.23999462, -0.21074983],\n",
       "       [ 1.08248495, -0.97261095],\n",
       "       [-0.14553179,  0.2158924 ],\n",
       "       [-0.05106897,  0.12446906],\n",
       "       [ 0.79909647,  0.85585574],\n",
       "       [-0.05106897,  0.33779017],\n",
       "       [-1.84586266,  0.55111129],\n",
       "       [ 0.23231951, -0.24122428],\n",
       "       [-0.42892027,  0.03304573],\n",
       "       [ 0.42124516,  1.0996513 ],\n",
       "       [ 0.04339386, -0.21074983],\n",
       "       [ 0.13785669, -0.27169872],\n",
       "       [-0.99569723,  0.61206018],\n",
       "       [ 1.08248495,  0.61206018],\n",
       "       [-0.23999462,  0.27684128],\n",
       "       [ 0.13785669,  1.16060019],\n",
       "       [-0.23999462,  0.70348351],\n",
       "       [ 0.98802212,  2.22720575],\n",
       "       [-1.2790857 ,  0.4901624 ],\n",
       "       [-0.42892027, -0.75928984],\n",
       "       [ 0.89355929, -1.15545762],\n",
       "       [-0.42892027,  1.3739213 ],\n",
       "       [ 1.08248495, -1.21640651],\n",
       "       [ 0.98802212,  2.13578242],\n",
       "       [-1.65693701, -0.57644317],\n",
       "       [ 0.23231951, -0.27169872],\n",
       "       [ 2.12157603, -0.78976428],\n",
       "       [ 0.23231951, -0.63739206],\n",
       "       [ 0.23231951, -0.33264761],\n",
       "       [-0.14553179,  1.52629352],\n",
       "       [-0.33445744, -1.30782985],\n",
       "       [-0.99569723,  2.10530798],\n",
       "       [ 0.32678234,  0.12446906],\n",
       "       [ 0.13785669,  0.09399462],\n",
       "       [-1.09016005, -1.15545762],\n",
       "       [ 0.23231951,  0.12446906],\n",
       "       [-0.42892027, -0.51549428],\n",
       "       [-1.75139983,  0.24636684],\n",
       "       [-0.61784592,  0.00257128],\n",
       "       [-1.2790857 , -1.49067652],\n",
       "       [-0.80677157, -0.63739206],\n",
       "       [ 0.32678234,  0.58158573],\n",
       "       [ 0.89355929, -1.46020207],\n",
       "       [-0.9012344 , -0.94213651],\n",
       "       [-1.09016005, -1.6125743 ],\n",
       "       [-0.9012344 ,  1.67866575],\n",
       "       [-1.18462288, -1.06403429],\n",
       "       [ 1.08248495, -0.88118762],\n",
       "       [-1.09016005,  0.12446906],\n",
       "       [-1.65693701,  0.18541795],\n",
       "       [-1.18462288,  0.67300907],\n",
       "       [ 0.13785669,  1.6481913 ],\n",
       "       [-0.23999462,  0.12446906],\n",
       "       [ 1.46033625,  1.0996513 ],\n",
       "       [ 0.32678234, -0.51549428],\n",
       "       [ 2.02711321,  0.24636684],\n",
       "       [ 0.32678234, -0.48501984],\n",
       "       [-0.61784592,  0.64253462],\n",
       "       [-0.61784592, -0.05837761],\n",
       "       [ 0.13785669, -0.78976428],\n",
       "       [-1.37354853, -1.46020207],\n",
       "       [-1.09016005,  0.39873906],\n",
       "       [ 0.42124516,  0.33779017],\n",
       "       [ 0.13785669,  0.85585574],\n",
       "       [-0.05106897, -0.3935965 ],\n",
       "       [-1.65693701,  0.55111129],\n",
       "       [ 0.42124516,  0.36826462],\n",
       "       [ 1.08248495,  0.55111129],\n",
       "       [-0.14553179, -0.48501984],\n",
       "       [ 0.32678234,  0.12446906],\n",
       "       [ 0.32678234,  0.12446906],\n",
       "       [ 2.12157603,  1.22154908],\n",
       "       [-0.99569723, -0.42407095],\n",
       "       [ 0.98802212, -1.0030854 ],\n",
       "       [-0.14553179, -0.54596873],\n",
       "       [ 1.83818755, -1.2773554 ],\n",
       "       [-0.80677157,  0.45968795],\n",
       "       [-0.23999462, -0.88118762],\n",
       "       [-0.42892027, -1.21640651],\n",
       "       [ 2.02711321, -0.78976428],\n",
       "       [-1.37354853,  0.42921351],\n",
       "       [-1.2790857 , -0.30217317],\n",
       "       [ 0.98802212,  1.92246131],\n",
       "       [-0.23999462, -0.54596873],\n",
       "       [ 0.98802212,  0.18541795],\n",
       "       [-1.75139983, -1.2773554 ],\n",
       "       [-0.05106897,  0.7644324 ],\n",
       "       [-1.56247418,  0.00257128],\n",
       "       [-0.23999462, -0.91166206],\n",
       "       [ 0.42124516,  0.06352017],\n",
       "       [-0.05106897, -0.45454539],\n",
       "       [-1.09016005,  0.36826462],\n",
       "       [ 0.79909647, -0.82023873],\n",
       "       [-0.9012344 , -0.27169872],\n",
       "       [-1.09016005, -0.48501984],\n",
       "       [ 0.42124516,  0.36826462],\n",
       "       [-1.65693701, -1.36877874],\n",
       "       [ 1.36587342,  0.67300907],\n",
       "       [-1.09016005,  0.4901624 ],\n",
       "       [-0.05106897,  0.2158924 ],\n",
       "       [ 0.32678234, -0.27169872],\n",
       "       [ 0.98802212, -1.15545762],\n",
       "       [ 1.17694777, -0.72881539],\n",
       "       [ 0.98802212, -0.82023873],\n",
       "       [ 0.04339386, -0.08885205],\n",
       "       [-1.65693701,  0.42921351],\n",
       "       [-1.2790857 , -0.3935965 ],\n",
       "       [-0.14553179,  0.94727907],\n",
       "       [-1.18462288,  0.33779017],\n",
       "       [ 1.08248495,  0.18541795],\n",
       "       [ 1.74372473,  1.9834102 ],\n",
       "       [ 0.23231951, -0.21074983],\n",
       "       [ 0.42124516,  0.2158924 ],\n",
       "       [ 0.32678234, -0.14980094],\n",
       "       [ 0.23231951,  0.09399462],\n",
       "       [-0.05106897, -0.33264761],\n",
       "       [ 1.6492619 , -0.88118762],\n",
       "       [-0.71230875, -0.57644317],\n",
       "       [ 0.89355929,  1.3739213 ],\n",
       "       [ 0.98802212,  2.01388464],\n",
       "       [ 0.79909647, -1.36877874],\n",
       "       [ 0.04339386, -0.21074983],\n",
       "       [-1.56247418,  0.12446906],\n",
       "       [ 0.23231951,  0.2158924 ],\n",
       "       [ 1.6492619 ,  1.73961464],\n",
       "       [ 0.70463364, -1.09450873],\n",
       "       [-0.80677157, -0.21074983],\n",
       "       [ 2.12157603,  0.45968795],\n",
       "       [ 0.04339386,  0.09399462],\n",
       "       [-1.09016005, -1.55162541],\n",
       "       [ 0.42124516, -0.45454539],\n",
       "       [-0.14553179, -1.06403429],\n",
       "       [ 0.23231951,  1.19107463],\n",
       "       [ 0.79909647,  1.49581908],\n",
       "       [ 2.02711321,  1.89198686],\n",
       "       [ 0.32678234,  0.09399462],\n",
       "       [-0.42892027, -0.82023873],\n",
       "       [ 0.98802212, -1.06403429],\n",
       "       [ 1.46033625,  0.42921351],\n",
       "       [-0.9012344 ,  0.52063684],\n",
       "       [ 0.32678234, -0.69834095],\n",
       "       [ 0.04339386,  1.3739213 ],\n",
       "       [ 1.83818755,  1.6481913 ],\n",
       "       [ 0.32678234,  0.33779017],\n",
       "       [-0.9012344 , -0.27169872],\n",
       "       [ 1.08248495,  0.64253462],\n",
       "       [-1.18462288, -1.39925318],\n",
       "       [-0.23999462, -0.54596873],\n",
       "       [ 1.2714106 ,  2.01388464],\n",
       "       [-1.46801135, -0.3935965 ],\n",
       "       [-0.61784592, -1.6125743 ],\n",
       "       [-0.71230875,  1.46534463],\n",
       "       [-1.09016005, -1.58209985],\n",
       "       [-0.14553179,  2.31862909],\n",
       "       [-0.05106897,  2.10530798],\n",
       "       [-1.37354853, -0.60691762],\n",
       "       [ 0.79909647, -1.09450873],\n",
       "       [-0.42892027, -0.24122428],\n",
       "       [ 0.04339386, -0.27169872],\n",
       "       [ 1.55479908,  1.0996513 ],\n",
       "       [ 0.79909647, -0.27169872],\n",
       "       [ 0.89355929, -1.36877874],\n",
       "       [ 2.02711321,  0.45968795],\n",
       "       [ 0.89355929, -1.03355984],\n",
       "       [ 0.79909647, -1.21640651],\n",
       "       [-0.9012344 ,  0.64253462],\n",
       "       [-0.14553179, -0.24122428],\n",
       "       [-0.80677157, -0.75928984],\n",
       "       [ 0.42124516, -0.08885205],\n",
       "       [-1.09016005, -1.0030854 ],\n",
       "       [ 0.79909647,  0.42921351],\n",
       "       [-0.23999462, -0.33264761],\n",
       "       [-0.14553179, -0.42407095],\n",
       "       [-0.05106897,  0.36826462],\n",
       "       [-0.23999462,  0.33779017],\n",
       "       [ 1.55479908, -1.2773554 ],\n",
       "       [-1.84586266,  0.42921351],\n",
       "       [-0.9012344 ,  0.33779017],\n",
       "       [-0.71230875,  0.33779017],\n",
       "       [-0.80677157, -0.75928984],\n",
       "       [-0.23999462, -1.24688096],\n",
       "       [ 2.02711321,  2.28815464],\n",
       "       [-0.05106897,  0.30731573],\n",
       "       [-1.84586266,  0.00257128],\n",
       "       [ 0.13785669,  0.33779017],\n",
       "       [-0.5233831 ,  0.97775352],\n",
       "       [ 0.98802212, -1.06403429],\n",
       "       [ 1.93265038,  0.82538129],\n",
       "       [-1.2790857 , -0.3935965 ],\n",
       "       [ 0.89355929, -1.30782985],\n",
       "       [-0.99569723,  0.85585574],\n",
       "       [ 1.08248495, -1.21640651],\n",
       "       [ 1.93265038, -0.63739206],\n",
       "       [-0.99569723,  0.4901624 ],\n",
       "       [-0.99569723,  0.67300907],\n",
       "       [-1.84586266, -0.48501984],\n",
       "       [-1.84586266, -0.72881539],\n",
       "       [ 0.23231951,  0.2158924 ],\n",
       "       [ 2.12157603, -1.03355984],\n",
       "       [-0.71230875,  2.04435909],\n",
       "       [ 0.23231951, -0.33264761],\n",
       "       [-0.71230875,  0.36826462],\n",
       "       [-0.23999462, -0.3935965 ],\n",
       "       [-0.80677157,  2.44052687],\n",
       "       [-0.23999462,  0.15494351],\n",
       "       [ 0.04339386, -0.51549428]])"
      ]
     },
     "execution_count": 9,
     "metadata": {},
     "output_type": "execute_result"
    }
   ],
   "source": [
    "X_train"
   ]
  },
  {
   "cell_type": "code",
   "execution_count": 10,
   "metadata": {},
   "outputs": [
    {
     "data": {
      "text/plain": [
       "array([[ 0.42124516, -0.1193265 ],\n",
       "       [-0.05106897,  2.37957798],\n",
       "       [-0.9012344 ,  0.4901624 ],\n",
       "       [-1.18462288,  0.58158573],\n",
       "       [-0.14553179,  1.73961464],\n",
       "       [-0.9012344 ,  0.58158573],\n",
       "       [ 0.98802212, -1.18593207],\n",
       "       [ 0.89355929,  2.31862909],\n",
       "       [-0.23999462, -1.30782985],\n",
       "       [ 0.79909647,  0.61206018],\n",
       "       [-1.09016005,  0.36826462],\n",
       "       [ 0.89355929, -0.54596873],\n",
       "       [-0.23999462,  1.22154908],\n",
       "       [-0.33445744, -0.75928984],\n",
       "       [-0.33445744,  1.43487019],\n",
       "       [ 0.04339386,  1.34344685],\n",
       "       [ 0.42124516,  1.22154908],\n",
       "       [ 0.51570799,  1.9834102 ],\n",
       "       [ 0.70463364,  1.92246131],\n",
       "       [ 2.02711321, -1.18593207],\n",
       "       [-0.23999462,  0.88633018],\n",
       "       [ 0.70463364,  0.33779017],\n",
       "       [-0.61784592,  1.52629352],\n",
       "       [-1.37354853, -0.14980094],\n",
       "       [-0.42892027, -1.12498318],\n",
       "       [ 1.36587342, -0.91166206],\n",
       "       [ 2.12157603, -0.66786651],\n",
       "       [-0.23999462,  0.2158924 ],\n",
       "       [-0.99569723, -0.30217317],\n",
       "       [-0.14553179,  1.77008908],\n",
       "       [ 0.61017082, -0.88118762],\n",
       "       [ 1.83818755, -0.24122428],\n",
       "       [-0.23999462, -1.46020207],\n",
       "       [-1.65693701,  0.42921351],\n",
       "       [-1.37354853, -0.05837761],\n",
       "       [ 0.89355929, -0.57644317],\n",
       "       [ 1.93265038,  2.31862909],\n",
       "       [-1.18462288,  0.36826462],\n",
       "       [ 1.08248495,  2.22720575],\n",
       "       [ 0.89355929,  1.19107463],\n",
       "       [ 0.42124516, -0.42407095],\n",
       "       [ 0.23231951,  2.2576802 ],\n",
       "       [ 0.89355929, -0.51549428],\n",
       "       [-0.23999462, -0.08885205],\n",
       "       [-1.75139983,  0.06352017],\n",
       "       [-0.23999462, -0.45454539],\n",
       "       [ 0.13785669,  0.09399462],\n",
       "       [-0.05106897, -0.48501984],\n",
       "       [ 0.70463364, -0.69834095],\n",
       "       [-1.75139983, -1.49067652],\n",
       "       [-0.33445744, -0.75928984],\n",
       "       [-0.42892027,  2.47100131],\n",
       "       [-0.5233831 ,  1.49581908],\n",
       "       [-0.61784592,  0.18541795],\n",
       "       [-0.9012344 , -0.72881539],\n",
       "       [ 0.61017082,  2.16625687],\n",
       "       [ 1.2714106 , -1.36877874],\n",
       "       [-0.80677157, -1.21640651],\n",
       "       [ 0.04339386, -0.3935965 ],\n",
       "       [-1.46801135,  0.39873906],\n",
       "       [ 1.93265038, -0.91166206],\n",
       "       [-0.5233831 ,  0.55111129],\n",
       "       [ 0.13785669, -0.21074983],\n",
       "       [ 0.70463364, -1.39925318],\n",
       "       [-0.23999462, -0.30217317],\n",
       "       [ 0.42124516,  2.47100131],\n",
       "       [ 0.98802212,  1.55676797],\n",
       "       [-0.71230875, -1.55162541],\n",
       "       [-0.61784592, -0.30217317],\n",
       "       [ 1.46033625, -1.03355984],\n",
       "       [-0.9012344 , -1.09450873],\n",
       "       [-0.5233831 ,  2.04435909],\n",
       "       [-0.9012344 , -0.3935965 ],\n",
       "       [ 0.32678234,  0.12446906],\n",
       "       [-0.05106897,  0.36826462],\n",
       "       [-0.5233831 ,  1.49581908],\n",
       "       [-0.23999462,  0.12446906],\n",
       "       [ 1.36587342,  1.40439574],\n",
       "       [ 2.02711321,  0.61206018],\n",
       "       [-0.23999462,  0.2158924 ]])"
      ]
     },
     "execution_count": 10,
     "metadata": {},
     "output_type": "execute_result"
    }
   ],
   "source": [
    "X_test"
   ]
  },
  {
   "cell_type": "markdown",
   "metadata": {},
   "source": [
    "## Training the Random Forest Classification model on the Training set"
   ]
  },
  {
   "cell_type": "code",
   "execution_count": 11,
   "metadata": {},
   "outputs": [
    {
     "data": {
      "text/plain": [
       "RandomForestClassifier(criterion='entropy', n_estimators=10)"
      ]
     },
     "execution_count": 11,
     "metadata": {},
     "output_type": "execute_result"
    }
   ],
   "source": [
    "from sklearn.ensemble import RandomForestClassifier\n",
    "classifier = RandomForestClassifier(n_estimators = 10, criterion = 'entropy')\n",
    "classifier.fit(X_train,y_train)"
   ]
  },
  {
   "cell_type": "markdown",
   "metadata": {},
   "source": [
    "## Predicting a new result"
   ]
  },
  {
   "cell_type": "code",
   "execution_count": 12,
   "metadata": {},
   "outputs": [
    {
     "data": {
      "text/plain": [
       "array([0])"
      ]
     },
     "execution_count": 12,
     "metadata": {},
     "output_type": "execute_result"
    }
   ],
   "source": [
    "classifier.predict(sc.transform([[30,87000]]))"
   ]
  },
  {
   "cell_type": "markdown",
   "metadata": {},
   "source": [
    "## Predicting the Test set results\n"
   ]
  },
  {
   "cell_type": "code",
   "execution_count": 13,
   "metadata": {},
   "outputs": [
    {
     "data": {
      "text/plain": [
       "(array([0, 1, 0, 0, 1, 0, 1, 1, 0, 1, 0, 0, 1, 0, 1, 1, 1, 1, 1, 1, 1, 1,\n",
       "        1, 0, 0, 1, 1, 0, 0, 1, 1, 1, 0, 0, 0, 0, 1, 0, 0, 1, 0, 1, 0, 0,\n",
       "        0, 0, 0, 0, 0, 0, 0, 1, 1, 0, 0, 1, 1, 0, 0, 0, 1, 0, 0, 1, 0, 1,\n",
       "        1, 0, 0, 1, 0, 1, 0, 0, 0, 1, 0, 1, 1, 0]),\n",
       " array([0, 1, 0, 0, 1, 0, 1, 1, 0, 1, 0, 1, 0, 0, 0, 0, 1, 0, 1, 1, 1, 0,\n",
       "        1, 0, 0, 1, 1, 0, 0, 1, 0, 1, 0, 0, 0, 1, 1, 0, 1, 1, 0, 1, 1, 0,\n",
       "        0, 0, 0, 0, 1, 0, 0, 1, 0, 0, 0, 1, 1, 0, 0, 0, 1, 0, 0, 1, 0, 1,\n",
       "        1, 0, 0, 1, 0, 1, 0, 0, 0, 1, 0, 0, 1, 0]))"
      ]
     },
     "execution_count": 13,
     "metadata": {},
     "output_type": "execute_result"
    }
   ],
   "source": [
    "y_pred = classifier.predict(X_test)\n",
    "y_test = y_test.iloc[:].values\n",
    "y_pred, y_test"
   ]
  },
  {
   "cell_type": "markdown",
   "metadata": {},
   "source": [
    "## Making the Confusion Matrix"
   ]
  },
  {
   "cell_type": "code",
   "execution_count": 14,
   "metadata": {},
   "outputs": [
    {
     "name": "stdout",
     "output_type": "stream",
     "text": [
      "[[39  8]\n",
      " [ 5 28]]\n"
     ]
    },
    {
     "data": {
      "text/plain": [
       "0.8375"
      ]
     },
     "execution_count": 14,
     "metadata": {},
     "output_type": "execute_result"
    }
   ],
   "source": [
    "from sklearn.metrics import confusion_matrix, accuracy_score\n",
    "conf_mat = confusion_matrix(y_test,y_pred)\n",
    "print(conf_mat)\n",
    "accuracy_score(y_test,y_pred)"
   ]
  },
  {
   "cell_type": "markdown",
   "metadata": {},
   "source": [
    "## Visualising the Training set results"
   ]
  },
  {
   "cell_type": "code",
   "execution_count": 15,
   "metadata": {},
   "outputs": [
    {
     "name": "stderr",
     "output_type": "stream",
     "text": [
      "*c* argument looks like a single numeric RGB or RGBA sequence, which should be avoided as value-mapping will have precedence in case its length matches with *x* & *y*.  Please use the *color* keyword-argument or provide a 2-D array with a single row if you intend to specify the same RGB or RGBA value for all points.\n",
      "*c* argument looks like a single numeric RGB or RGBA sequence, which should be avoided as value-mapping will have precedence in case its length matches with *x* & *y*.  Please use the *color* keyword-argument or provide a 2-D array with a single row if you intend to specify the same RGB or RGBA value for all points.\n"
     ]
    },
    {
     "data": {
      "image/png": "[encoded data removed]",
      "text/plain": [
       "<Figure size 432x288 with 1 Axes>"
      ]
     },
     "metadata": {
      "needs_background": "light"
     },
     "output_type": "display_data"
    }
   ],
   "source": [
    "from matplotlib.colors import ListedColormap\n",
    "X_set, y_set = sc.inverse_transform(X_train), y_train\n",
    "X1, X2 = np.meshgrid(np.arange(start = X_set[:, 0].min() - 10, stop = X_set[:, 0].max() + 10, step = 0.25),\n",
    "                     np.arange(start = X_set[:, 1].min() - 1000, stop = X_set[:, 1].max() + 1000, step = 0.25))\n",
    "plt.contourf(X1, X2, classifier.predict(sc.transform(np.array([X1.ravel(), X2.ravel()]).T)).reshape(X1.shape),\n",
    "             alpha = 0.75, cmap = ListedColormap(('red', 'green')))\n",
    "plt.xlim(X1.min(), X1.max())\n",
    "plt.ylim(X2.min(), X2.max())\n",
    "for i, j in enumerate(np.unique(y_set)):\n",
    "    plt.scatter(X_set[y_set == j, 0], X_set[y_set == j, 1], c = ListedColormap(('red', 'green'))(i), label = j)\n",
    "plt.title('Random Forest Classification (Training set)')\n",
    "plt.xlabel('Age')\n",
    "plt.ylabel('Estimated Salary')\n",
    "plt.legend()\n",
    "plt.show()"
   ]
  },
  {
   "cell_type": "markdown",
   "metadata": {},
   "source": [
    "## Visualising the Test set results"
   ]
  },
  {
   "cell_type": "code",
   "execution_count": 16,
   "metadata": {},
   "outputs": [
    {
     "name": "stderr",
     "output_type": "stream",
     "text": [
      "*c* argument looks like a single numeric RGB or RGBA sequence, which should be avoided as value-mapping will have precedence in case its length matches with *x* & *y*.  Please use the *color* keyword-argument or provide a 2-D array with a single row if you intend to specify the same RGB or RGBA value for all points.\n",
      "*c* argument looks like a single numeric RGB or RGBA sequence, which should be avoided as value-mapping will have precedence in case its length matches with *x* & *y*.  Please use the *color* keyword-argument or provide a 2-D array with a single row if you intend to specify the same RGB or RGBA value for all points.\n"
     ]
    },
    {
     "data": {
      "image/png": "[encoded data removed]",
      "text/plain": [
       "<Figure size 432x288 with 1 Axes>"
      ]
     },
     "metadata": {
      "needs_background": "light"
     },
     "output_type": "display_data"
    }
   ],
   "source": [
    "from matplotlib.colors import ListedColormap\n",
    "X_set, y_set = sc.inverse_transform(X_test), y_test\n",
    "X1, X2 = np.meshgrid(np.arange(start = X_set[:, 0].min() - 10, stop = X_set[:, 0].max() + 10, step = 0.25),\n",
    "                     np.arange(start = X_set[:, 1].min() - 1000, stop = X_set[:, 1].max() + 1000, step = 0.25))\n",
    "plt.contourf(X1, X2, classifier.predict(sc.transform(np.array([X1.ravel(), X2.ravel()]).T)).reshape(X1.shape),\n",
    "             alpha = 0.75, cmap = ListedColormap(('red', 'green')))\n",
    "plt.xlim(X1.min(), X1.max())\n",
    "plt.ylim(X2.min(), X2.max())\n",
    "for i, j in enumerate(np.unique(y_set)):\n",
    "    plt.scatter(X_set[y_set == j, 0], X_set[y_set == j, 1], c = ListedColormap(('red', 'green'))(i), label = j)\n",
    "plt.title('Random Forest Classification (Test set)')\n",
    "plt.xlabel('Age')\n",
    "plt.ylabel('Estimated Salary')\n",
    "plt.legend()\n",
    "plt.show()"
   ]
  }
 ],
 "metadata": {
  "kernelspec": {
   "display_name": "Python 3",
   "language": "python",
   "name": "python3"
  },
  "language_info": {
   "codemirror_mode": {
    "name": "ipython",
    "version": 3
   },
   "file_extension": ".py",
   "mimetype": "text/x-python",
   "name": "python",
   "nbconvert_exporter": "python",
   "pygments_lexer": "ipython3",
   "version": "3.8.3"
  }
 },
 "nbformat": 4,
 "nbformat_minor": 4
}
