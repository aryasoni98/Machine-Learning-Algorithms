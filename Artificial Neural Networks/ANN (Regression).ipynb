{
 "cells": [
  {
   "cell_type": "markdown",
   "metadata": {
    "id": "3cbb7fRy-eyr"
   },
   "source": [
    "# Artificial Neural Network\n",
    "\n",
    "This is a part of neural networks where we implemet classic neural network models without using any other layer like conv2d etc. In this notebook we are working on a regression model where we have constructed a ANN model with 2 hidden layers with 6 units each and we have used refictier activation function(relu) in the two hidden layers and  there is no activation function in the output layer when working with regression. We have chosed the optimizer as adam to implement Stochastic Gradient Descent and the loss as mean-squared-error. Also we have implemented Batch Gradient Descent method for minimizing the loss by dividing the data into batch_size of 32."
   ]
  },
  {
   "cell_type": "markdown",
   "metadata": {
    "id": "8sNDnxE2-pwE"
   },
   "source": [
    "### Importing the libraries"
   ]
  },
  {
   "cell_type": "code",
   "execution_count": 1,
   "metadata": {
    "id": "_B3kqz61ejDJ"
   },
   "outputs": [],
   "source": [
    "import pandas as pd\n",
    "import numpy as np\n",
    "import tensorflow as tf"
   ]
  },
  {
   "cell_type": "code",
   "execution_count": 2,
   "metadata": {
    "colab": {
     "base_uri": "https://localhost:8080/",
     "height": 35
    },
    "id": "3DxtpI1terZX",
    "outputId": "55f1b7b4-62f6-470d-97d3-681d3864d876"
   },
   "outputs": [
    {
     "data": {
      "application/vnd.google.colaboratory.intrinsic+json": {
       "type": "string"
      },
      "text/plain": [
       "'2.4.1'"
      ]
     },
     "execution_count": 2,
     "metadata": {
      "tags": []
     },
     "output_type": "execute_result"
    }
   ],
   "source": [
    "tf.__version__"
   ]
  },
  {
   "cell_type": "markdown",
   "metadata": {
    "id": "AG3FQEch-yuA"
   },
   "source": [
    "## Part 1 - Data Preprocessing"
   ]
  },
  {
   "cell_type": "markdown",
   "metadata": {
    "id": "-4zq8Mza_D9O"
   },
   "source": [
    "### Importing the dataset"
   ]
  },
  {
   "cell_type": "code",
   "execution_count": 3,
   "metadata": {
    "id": "-P2JmUlOexL0"
   },
   "outputs": [],
   "source": [
    "dataset = pd.read_excel('reg_data.xlsx')\n",
    "X = dataset.iloc[:,:-1].values\n",
    "y = dataset.iloc[:,-1].values"
   ]
  },
  {
   "cell_type": "code",
   "execution_count": 4,
   "metadata": {
    "colab": {
     "base_uri": "https://localhost:8080/"
    },
    "id": "ToaYFDEggSbJ",
    "outputId": "2ebfd2a2-8a2c-40c2-b242-7b73fe074fc8"
   },
   "outputs": [
    {
     "data": {
      "text/plain": [
       "array([[  14.96,   41.76, 1024.07,   73.17],\n",
       "       [  25.18,   62.96, 1020.04,   59.08],\n",
       "       [   5.11,   39.4 , 1012.16,   92.14],\n",
       "       ...,\n",
       "       [  31.32,   74.33, 1012.92,   36.48],\n",
       "       [  24.48,   69.45, 1013.86,   62.39],\n",
       "       [  21.6 ,   62.52, 1017.23,   67.87]])"
      ]
     },
     "execution_count": 4,
     "metadata": {
      "tags": []
     },
     "output_type": "execute_result"
    }
   ],
   "source": [
    "X"
   ]
  },
  {
   "cell_type": "code",
   "execution_count": 5,
   "metadata": {
    "colab": {
     "base_uri": "https://localhost:8080/"
    },
    "id": "cfX6Y2iJgVQx",
    "outputId": "35293c05-aa39-4aea-cd17-56e57f367d96"
   },
   "outputs": [
    {
     "data": {
      "text/plain": [
       "array([463.26, 444.37, 488.56, ..., 429.57, 435.74, 453.28])"
      ]
     },
     "execution_count": 5,
     "metadata": {
      "tags": []
     },
     "output_type": "execute_result"
    }
   ],
   "source": [
    "y"
   ]
  },
  {
   "cell_type": "markdown",
   "metadata": {
    "id": "VC6omXel_Up0"
   },
   "source": [
    "### Splitting the dataset into the Training set and Test set"
   ]
  },
  {
   "cell_type": "code",
   "execution_count": 6,
   "metadata": {
    "id": "tHTLRLWsf-9R"
   },
   "outputs": [],
   "source": [
    "from sklearn.model_selection import train_test_split\n",
    "X_train, X_test, y_train, y_test = train_test_split(X,y,test_size = 0.2)"
   ]
  },
  {
   "cell_type": "markdown",
   "metadata": {
    "id": "_mSLlAT9_eyI"
   },
   "source": [
    "## Part 2 - Building the ANN"
   ]
  },
  {
   "cell_type": "markdown",
   "metadata": {
    "id": "CsBULd_f_wLY"
   },
   "source": [
    "### Initializing the ANN"
   ]
  },
  {
   "cell_type": "code",
   "execution_count": 7,
   "metadata": {
    "id": "FpJAB5rVgfi_"
   },
   "outputs": [],
   "source": [
    "ann = tf.keras.models.Sequential()"
   ]
  },
  {
   "cell_type": "markdown",
   "metadata": {
    "id": "iitAFJS_ABUn"
   },
   "source": [
    "### Adding the input layer and the first hidden layer"
   ]
  },
  {
   "cell_type": "code",
   "execution_count": 8,
   "metadata": {
    "id": "sa-Q2yZrgrWM"
   },
   "outputs": [],
   "source": [
    "ann.add(tf.keras.layers.Dense(units=6,activation='relu'))"
   ]
  },
  {
   "cell_type": "markdown",
   "metadata": {
    "id": "-lb4kK_wAKbs"
   },
   "source": [
    "### Adding the second hidden layer"
   ]
  },
  {
   "cell_type": "code",
   "execution_count": 9,
   "metadata": {
    "id": "BHq2ubD9jRyf"
   },
   "outputs": [],
   "source": [
    "ann.add(tf.keras.layers.Dense(units=6,activation='relu'))"
   ]
  },
  {
   "cell_type": "markdown",
   "metadata": {
    "id": "jwMOmKb3AdBY"
   },
   "source": [
    "### Adding the output layer"
   ]
  },
  {
   "cell_type": "code",
   "execution_count": 10,
   "metadata": {
    "id": "yEELelj4jTIt"
   },
   "outputs": [],
   "source": [
    "ann.add(tf.keras.layers.Dense(units=1))"
   ]
  },
  {
   "cell_type": "markdown",
   "metadata": {
    "id": "fq7e4fF6A1yy"
   },
   "source": [
    "## Part 3 - Training the ANN"
   ]
  },
  {
   "cell_type": "markdown",
   "metadata": {
    "id": "qDeylAs2An25"
   },
   "source": [
    "### Compiling the ANN"
   ]
  },
  {
   "cell_type": "code",
   "execution_count": 11,
   "metadata": {
    "id": "duuqDqLjj6TL"
   },
   "outputs": [],
   "source": [
    "ann.compile(optimizer = 'adam', loss = 'mean_squared_error')"
   ]
  },
  {
   "cell_type": "markdown",
   "metadata": {
    "id": "YjVuiybYOo7r"
   },
   "source": [
    "### Training the ANN model on the Training set"
   ]
  },
  {
   "cell_type": "code",
   "execution_count": 12,
   "metadata": {
    "colab": {
     "base_uri": "https://localhost:8080/"
    },
    "id": "3BtTgdnHlaok",
    "outputId": "cbb76f42-aefd-4762-8b1f-96038c28a447"
   },
   "outputs": [
    {
     "name": "stdout",
     "output_type": "stream",
     "text": [
      "Epoch 1/100\n",
      "240/240 [==============================] - 1s 1ms/step - loss: 147541.3889\n",
      "Epoch 2/100\n",
      "240/240 [==============================] - 0s 1ms/step - loss: 190.2027\n",
      "Epoch 3/100\n",
      "240/240 [==============================] - 0s 1ms/step - loss: 180.8925\n",
      "Epoch 4/100\n",
      "240/240 [==============================] - 0s 1ms/step - loss: 171.8721\n",
      "Epoch 5/100\n",
      "240/240 [==============================] - 0s 1ms/step - loss: 170.9400\n",
      "Epoch 6/100\n",
      "240/240 [==============================] - 0s 1ms/step - loss: 172.2041\n",
      "Epoch 7/100\n",
      "240/240 [==============================] - 0s 1ms/step - loss: 159.1048\n",
      "Epoch 8/100\n",
      "240/240 [==============================] - 0s 1ms/step - loss: 151.8606\n",
      "Epoch 9/100\n",
      "240/240 [==============================] - 0s 1ms/step - loss: 147.0083\n",
      "Epoch 10/100\n",
      "240/240 [==============================] - 0s 1ms/step - loss: 135.5917\n",
      "Epoch 11/100\n",
      "240/240 [==============================] - 0s 1ms/step - loss: 129.7243\n",
      "Epoch 12/100\n",
      "240/240 [==============================] - 0s 1ms/step - loss: 120.8865\n",
      "Epoch 13/100\n",
      "240/240 [==============================] - 0s 1ms/step - loss: 114.6742\n",
      "Epoch 14/100\n",
      "240/240 [==============================] - 0s 1ms/step - loss: 102.8490\n",
      "Epoch 15/100\n",
      "240/240 [==============================] - 0s 1ms/step - loss: 98.4590\n",
      "Epoch 16/100\n",
      "240/240 [==============================] - 0s 1ms/step - loss: 88.6994\n",
      "Epoch 17/100\n",
      "240/240 [==============================] - 0s 1ms/step - loss: 83.4901\n",
      "Epoch 18/100\n",
      "240/240 [==============================] - 0s 1ms/step - loss: 76.5250\n",
      "Epoch 19/100\n",
      "240/240 [==============================] - 0s 1000us/step - loss: 71.3355\n",
      "Epoch 20/100\n",
      "240/240 [==============================] - 0s 1ms/step - loss: 61.8263\n",
      "Epoch 21/100\n",
      "240/240 [==============================] - 0s 1ms/step - loss: 57.7984\n",
      "Epoch 22/100\n",
      "240/240 [==============================] - 0s 1ms/step - loss: 53.7329\n",
      "Epoch 23/100\n",
      "240/240 [==============================] - 0s 1ms/step - loss: 51.0964\n",
      "Epoch 24/100\n",
      "240/240 [==============================] - 0s 1ms/step - loss: 45.6661\n",
      "Epoch 25/100\n",
      "240/240 [==============================] - 0s 1ms/step - loss: 43.0345\n",
      "Epoch 26/100\n",
      "240/240 [==============================] - 0s 1ms/step - loss: 40.7692\n",
      "Epoch 27/100\n",
      "240/240 [==============================] - 0s 1ms/step - loss: 39.1349\n",
      "Epoch 28/100\n",
      "240/240 [==============================] - 0s 1ms/step - loss: 38.4504\n",
      "Epoch 29/100\n",
      "240/240 [==============================] - 0s 1ms/step - loss: 36.8490\n",
      "Epoch 30/100\n",
      "240/240 [==============================] - 0s 1ms/step - loss: 35.0828\n",
      "Epoch 31/100\n",
      "240/240 [==============================] - 0s 1ms/step - loss: 33.6316\n",
      "Epoch 32/100\n",
      "240/240 [==============================] - 0s 1ms/step - loss: 32.7132\n",
      "Epoch 33/100\n",
      "240/240 [==============================] - 0s 1ms/step - loss: 32.6772\n",
      "Epoch 34/100\n",
      "240/240 [==============================] - 0s 1ms/step - loss: 31.4353\n",
      "Epoch 35/100\n",
      "240/240 [==============================] - 0s 1ms/step - loss: 31.0711\n",
      "Epoch 36/100\n",
      "240/240 [==============================] - 0s 1ms/step - loss: 31.8338\n",
      "Epoch 37/100\n",
      "240/240 [==============================] - 0s 1ms/step - loss: 32.0325\n",
      "Epoch 38/100\n",
      "240/240 [==============================] - 0s 1ms/step - loss: 31.1396\n",
      "Epoch 39/100\n",
      "240/240 [==============================] - 0s 1ms/step - loss: 31.3642\n",
      "Epoch 40/100\n",
      "240/240 [==============================] - 0s 1ms/step - loss: 29.6356\n",
      "Epoch 41/100\n",
      "240/240 [==============================] - 0s 1ms/step - loss: 30.6009\n",
      "Epoch 42/100\n",
      "240/240 [==============================] - 0s 1ms/step - loss: 28.5127\n",
      "Epoch 43/100\n",
      "240/240 [==============================] - 0s 1ms/step - loss: 30.2782\n",
      "Epoch 44/100\n",
      "240/240 [==============================] - 0s 1ms/step - loss: 28.9650\n",
      "Epoch 45/100\n",
      "240/240 [==============================] - 0s 1ms/step - loss: 29.2730\n",
      "Epoch 46/100\n",
      "240/240 [==============================] - 0s 1ms/step - loss: 28.0552\n",
      "Epoch 47/100\n",
      "240/240 [==============================] - 0s 1ms/step - loss: 29.2986\n",
      "Epoch 48/100\n",
      "240/240 [==============================] - 0s 1ms/step - loss: 28.6934\n",
      "Epoch 49/100\n",
      "240/240 [==============================] - 0s 1ms/step - loss: 28.4766\n",
      "Epoch 50/100\n",
      "240/240 [==============================] - 0s 1ms/step - loss: 27.6757\n",
      "Epoch 51/100\n",
      "240/240 [==============================] - 0s 1ms/step - loss: 27.4022\n",
      "Epoch 52/100\n",
      "240/240 [==============================] - 0s 1ms/step - loss: 29.0921\n",
      "Epoch 53/100\n",
      "240/240 [==============================] - 0s 1ms/step - loss: 27.0184\n",
      "Epoch 54/100\n",
      "240/240 [==============================] - 0s 1ms/step - loss: 28.0101\n",
      "Epoch 55/100\n",
      "240/240 [==============================] - 0s 1ms/step - loss: 27.4806\n",
      "Epoch 56/100\n",
      "240/240 [==============================] - 0s 1ms/step - loss: 28.4450\n",
      "Epoch 57/100\n",
      "240/240 [==============================] - 0s 1ms/step - loss: 28.7642\n",
      "Epoch 58/100\n",
      "240/240 [==============================] - 0s 1ms/step - loss: 27.6717\n",
      "Epoch 59/100\n",
      "240/240 [==============================] - 0s 1ms/step - loss: 26.0096\n",
      "Epoch 60/100\n",
      "240/240 [==============================] - 0s 1ms/step - loss: 29.9716\n",
      "Epoch 61/100\n",
      "240/240 [==============================] - 0s 1ms/step - loss: 27.7381\n",
      "Epoch 62/100\n",
      "240/240 [==============================] - 0s 1ms/step - loss: 29.0924\n",
      "Epoch 63/100\n",
      "240/240 [==============================] - 0s 1ms/step - loss: 27.0447\n",
      "Epoch 64/100\n",
      "240/240 [==============================] - 0s 1ms/step - loss: 25.8515\n",
      "Epoch 65/100\n",
      "240/240 [==============================] - 0s 1ms/step - loss: 28.1167\n",
      "Epoch 66/100\n",
      "240/240 [==============================] - 0s 1ms/step - loss: 27.0603\n",
      "Epoch 67/100\n",
      "240/240 [==============================] - 0s 1ms/step - loss: 26.9093\n",
      "Epoch 68/100\n",
      "240/240 [==============================] - 0s 1ms/step - loss: 27.9802\n",
      "Epoch 69/100\n",
      "240/240 [==============================] - 0s 1ms/step - loss: 25.9634\n",
      "Epoch 70/100\n",
      "240/240 [==============================] - 0s 1ms/step - loss: 26.0258\n",
      "Epoch 71/100\n",
      "240/240 [==============================] - 0s 1ms/step - loss: 27.3524\n",
      "Epoch 72/100\n",
      "240/240 [==============================] - 0s 1ms/step - loss: 26.4016\n",
      "Epoch 73/100\n",
      "240/240 [==============================] - 0s 1ms/step - loss: 28.8421\n",
      "Epoch 74/100\n",
      "240/240 [==============================] - 0s 1ms/step - loss: 27.3917\n",
      "Epoch 75/100\n",
      "240/240 [==============================] - 0s 1ms/step - loss: 26.4884\n",
      "Epoch 76/100\n",
      "240/240 [==============================] - 0s 1ms/step - loss: 27.5022\n",
      "Epoch 77/100\n",
      "240/240 [==============================] - 0s 1ms/step - loss: 27.3823\n",
      "Epoch 78/100\n",
      "240/240 [==============================] - 0s 1ms/step - loss: 28.4795\n",
      "Epoch 79/100\n",
      "240/240 [==============================] - 0s 1ms/step - loss: 27.3014\n",
      "Epoch 80/100\n",
      "240/240 [==============================] - 0s 1ms/step - loss: 28.8166\n",
      "Epoch 81/100\n",
      "240/240 [==============================] - 0s 1ms/step - loss: 26.6915\n",
      "Epoch 82/100\n",
      "240/240 [==============================] - 0s 1ms/step - loss: 28.0866\n",
      "Epoch 83/100\n",
      "240/240 [==============================] - 0s 1ms/step - loss: 26.4522\n",
      "Epoch 84/100\n",
      "240/240 [==============================] - 0s 1ms/step - loss: 27.6365\n",
      "Epoch 85/100\n",
      "240/240 [==============================] - 0s 1ms/step - loss: 28.0374\n",
      "Epoch 86/100\n",
      "240/240 [==============================] - 0s 1ms/step - loss: 27.3306\n",
      "Epoch 87/100\n",
      "240/240 [==============================] - 0s 1ms/step - loss: 26.7413\n",
      "Epoch 88/100\n",
      "240/240 [==============================] - 0s 1ms/step - loss: 26.4080\n",
      "Epoch 89/100\n",
      "240/240 [==============================] - 0s 1ms/step - loss: 27.8613\n",
      "Epoch 90/100\n",
      "240/240 [==============================] - 0s 1ms/step - loss: 27.6011\n",
      "Epoch 91/100\n",
      "240/240 [==============================] - 0s 1ms/step - loss: 27.1987\n",
      "Epoch 92/100\n",
      "240/240 [==============================] - 0s 1ms/step - loss: 26.6108\n",
      "Epoch 93/100\n",
      "240/240 [==============================] - 0s 1ms/step - loss: 25.9056\n",
      "Epoch 94/100\n",
      "240/240 [==============================] - 0s 1ms/step - loss: 27.2864\n",
      "Epoch 95/100\n",
      "240/240 [==============================] - 0s 1ms/step - loss: 27.1003\n",
      "Epoch 96/100\n",
      "240/240 [==============================] - 0s 1ms/step - loss: 28.1639\n",
      "Epoch 97/100\n",
      "240/240 [==============================] - 0s 1ms/step - loss: 27.7626\n",
      "Epoch 98/100\n",
      "240/240 [==============================] - 0s 1ms/step - loss: 27.9769\n",
      "Epoch 99/100\n",
      "240/240 [==============================] - 0s 1ms/step - loss: 26.9925\n",
      "Epoch 100/100\n",
      "240/240 [==============================] - 0s 1ms/step - loss: 27.3788\n"
     ]
    },
    {
     "data": {
      "text/plain": [
       "<tensorflow.python.keras.callbacks.History at 0x7f6ff61a5910>"
      ]
     },
     "execution_count": 12,
     "metadata": {
      "tags": []
     },
     "output_type": "execute_result"
    }
   ],
   "source": [
    "ann.fit(X_train,y_train, batch_size = 32, epochs = 100)"
   ]
  },
  {
   "cell_type": "markdown",
   "metadata": {
    "id": "0H0zKKNEBLD5"
   },
   "source": [
    "### Predicting the results of the Test set"
   ]
  },
  {
   "cell_type": "code",
   "execution_count": 16,
   "metadata": {
    "colab": {
     "base_uri": "https://localhost:8080/"
    },
    "id": "eNJVOcREnkQb",
    "outputId": "2c7c66f2-d6dd-4600-a8ac-fa082bc0eb15"
   },
   "outputs": [
    {
     "data": {
      "text/plain": [
       "(array([[482.22226],\n",
       "        [454.19165],\n",
       "        [444.8443 ],\n",
       "        ...,\n",
       "        [437.81244],\n",
       "        [471.6461 ],\n",
       "        [432.36984]], dtype=float32),\n",
       " array([485.06, 448.46, 430.45, ..., 440.13, 468.8 , 435.82]))"
      ]
     },
     "execution_count": 16,
     "metadata": {
      "tags": []
     },
     "output_type": "execute_result"
    }
   ],
   "source": [
    "y_pred = ann.predict(X_test)\n",
    "y_pred, y_test"
   ]
  }
 ],
 "metadata": {
  "colab": {
   "collapsed_sections": [],
   "name": "ANN(Regression)",
   "provenance": []
  },
  "kernelspec": {
   "display_name": "Python 3",
   "language": "python",
   "name": "python3"
  },
  "language_info": {
   "codemirror_mode": {
    "name": "ipython",
    "version": 3
   },
   "file_extension": ".py",
   "mimetype": "text/x-python",
   "name": "python",
   "nbconvert_exporter": "python",
   "pygments_lexer": "ipython3",
   "version": "3.8.3"
  }
 },
 "nbformat": 4,
 "nbformat_minor": 1
}
